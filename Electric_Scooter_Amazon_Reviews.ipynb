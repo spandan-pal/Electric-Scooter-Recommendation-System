{
  "cells": [
    {
      "cell_type": "markdown",
      "source": [
        "# Electric Scooter - Project\n",
        "\n",
        "**Team Members - MSBA '24 Morning Cohort:**\n",
        "- Karthick Vel Kathirvel (kk37347)\n",
        "- Sharan Arora (sa44827)\n",
        "- Spandan Pal (sp54969)\n",
        "- Manideep Telukuntla (mt39528)\n",
        "- Pritesh Singh (ps35762)\n",
        "- Raghav Vaidya (rv25256)\n"
      ],
      "metadata": {
        "id": "h2iVKMcHcugy"
      }
    },
    {
      "cell_type": "code",
      "execution_count": null,
      "metadata": {
        "colab": {
          "base_uri": "https://localhost:8080/"
        },
        "id": "_TLbNAOyRfdo",
        "outputId": "af727051-201a-4329-a5f6-e28cd458f9b9"
      },
      "outputs": [
        {
          "name": "stdout",
          "output_type": "stream",
          "text": [
            "zsh:1: command not found: pip\n",
            "zsh:1: command not found: apt-get\n",
            "The operation couldn’t be completed. Unable to locate a Java Runtime that supports apt.\n",
            "Please visit http://www.java.com for information on installing Java.\n",
            "\n",
            "cp: /usr/lib/chromium-browser/chromedriver: No such file or directory\n"
          ]
        }
      ],
      "source": [
        "# installing selenium and setting the Chromedriver executable\n",
        "!pip install selenium\n",
        "!apt-get -q update\n",
        "!apt install -yq chromium-chromedriver\n",
        "!cp /usr/lib/chromium-browser/chromedriver /usr/bin\n",
        "\n",
        "import sys\n",
        "sys.path.insert(0,'/usr/lib/chromium-browser/chromedriver')\n",
        "from selenium import webdriver\n",
        "from selenium.webdriver.common.by import By\n",
        "chrome_options = webdriver.ChromeOptions()\n",
        "chrome_options.add_argument('--headless')\n",
        "\n",
        "chrome_options.add_argument('--no-sandbox')\n",
        "chrome_options.add_argument('--disable-dev-shm-usage')"
      ]
    },
    {
      "cell_type": "code",
      "execution_count": null,
      "metadata": {
        "colab": {
          "base_uri": "https://localhost:8080/",
          "height": 35
        },
        "id": "6OcLShjmRfdr",
        "outputId": "cccf9b24-88ef-44c7-e51d-6a68d98eabca"
      },
      "outputs": [
        {
          "data": {
            "text/plain": [
              "'https://www.amazon.com/s?k=electric+scooter&page=2&qid=1696891993&ref=sr_pg_1'"
            ]
          },
          "execution_count": 21,
          "metadata": {},
          "output_type": "execute_result"
        }
      ],
      "source": [
        "driver = webdriver.Chrome(options=chrome_options)\n",
        "\n",
        "url = 'https://www.amazon.com/s?k=electric+scooter&ref=nb_sb_noss'\n",
        "\n",
        "driver.get(url)\n",
        "\n",
        "base_page_url=\"\"\n",
        "next_page_url=\"\"\n",
        "\n",
        "next_page_elements= driver.find_elements(By.CLASS_NAME,'s-pagination-strip')\n",
        "\n",
        "for next_page_element in next_page_elements:\n",
        "  next_page_element_set = next_page_element.find_elements(By.TAG_NAME, \"a\")\n",
        "  for next_page_url_value in next_page_element_set:\n",
        "    next_page_url = next_page_url_value.get_attribute(\"href\")\n",
        "\n",
        "base_page_url=next_page_url\n",
        "\n",
        "driver.quit()\n",
        "\n",
        "base_page_url"
      ]
    },
    {
      "cell_type": "code",
      "execution_count": null,
      "metadata": {
        "colab": {
          "base_uri": "https://localhost:8080/"
        },
        "id": "zUOlaHFuRfdr",
        "outputId": "8e555c06-1550-4e2e-cd76-b31bc5f9bc5f"
      },
      "outputs": [
        {
          "name": "stdout",
          "output_type": "stream",
          "text": [
            "https://www.amazon.com/s?k=electric+scooter&page=1&qid=1696891993&ref=sr_pg_1 running now\n",
            "https://www.amazon.com/s?k=electric+scooter&page=2&qid=1696891993&ref=sr_pg_1 running now\n",
            "https://www.amazon.com/s?k=electric+scooter&page=3&qid=1696891993&ref=sr_pg_1 running now\n",
            "https://www.amazon.com/s?k=electric+scooter&page=4&qid=1696891993&ref=sr_pg_1 running now\n",
            "https://www.amazon.com/s?k=electric+scooter&page=5&qid=1696891993&ref=sr_pg_1 running now\n",
            "https://www.amazon.com/s?k=electric+scooter&page=6&qid=1696891993&ref=sr_pg_1 running now\n",
            "https://www.amazon.com/s?k=electric+scooter&page=7&qid=1696891993&ref=sr_pg_1 running now\n"
          ]
        }
      ],
      "source": [
        "import time\n",
        "import random\n",
        "import pandas as pd\n",
        "import os\n",
        "\n",
        "\n",
        "product_link = []\n",
        "\n",
        "\n",
        "for i in range(1,8):\n",
        "\n",
        "  time.sleep(random.uniform(1, 3))\n",
        "\n",
        "  driver = webdriver.Chrome(options=chrome_options)\n",
        "\n",
        "  url = base_page_url.replace('page=2', \"page=\" + str(i))\n",
        "\n",
        "  print(url+\" running now\")\n",
        "\n",
        "  driver.get(url)\n",
        "\n",
        "  pageelement= driver.find_elements(By.CLASS_NAME,'a-section.a-spacing-base')\n",
        "  for page in pageelement:\n",
        "    subsection=page.find_elements(By.CLASS_NAME,'a-link-normal.s-underline-text.s-underline-link-text.s-link-style.a-text-normal')\n",
        "    for subsection_page in subsection:\n",
        "      individual_product_page = subsection_page.get_attribute('href')\n",
        "      product_link.append(individual_product_page)"
      ]
    },
    {
      "cell_type": "code",
      "execution_count": null,
      "metadata": {
        "id": "0IJRmb1JRfds"
      },
      "outputs": [],
      "source": [
        "import pandas as pd\n",
        "import os\n",
        "\n",
        "product_link_df = pd.DataFrame({\"product_link\":product_link})\n",
        "\n",
        "product_link_df = product_link_df.drop_duplicates()"
      ]
    },
    {
      "cell_type": "code",
      "execution_count": null,
      "metadata": {
        "id": "KU7vMNgIcsT-",
        "outputId": "79108ea3-c7ba-4f52-c007-e60cfc84a5d0"
      },
      "outputs": [
        {
          "name": "stdout",
          "output_type": "stream",
          "text": [
            "{}\n"
          ]
        }
      ],
      "source": [
        "feature_dict = {}\n",
        "print(feature_dict)"
      ]
    },
    {
      "cell_type": "code",
      "execution_count": null,
      "metadata": {
        "colab": {
          "base_uri": "https://localhost:8080/"
        },
        "id": "jJmFAm49Rfds",
        "outputId": "ed5be528-023f-4cc7-ae37-87ed5cd84e00"
      },
      "outputs": [
        {
          "name": "stdout",
          "output_type": "stream",
          "text": [
            "https://www.amazon.com/Razor-Power-Core-Electric-Scooter/dp/B01A0EMX6O/ref=sr_1_1?keywords=electric+scooter&qid=1696891997&sr=8-1\n",
            "https://www.amazon.com/Gotrax-ASTRO-Electric-Pneumatic-Comfortable/dp/B0C8CXNFGY/ref=sr_1_2?keywords=electric+scooter&qid=1696891997&sr=8-2\n",
            "https://www.amazon.com/GOTRAX-GXL-Commuting-Electric-Scooter/dp/B07K9MB6X1/ref=sr_1_3?keywords=electric+scooter&qid=1696891997&sr=8-3\n",
            "https://www.amazon.com/LINGTENG-Electric-Kick-Start-Adjustable-Lights%EF%BC%88Black%EF%BC%89/dp/B0BK8QM3CS/ref=sr_1_4?keywords=electric+scooter&qid=1696891997&sr=8-4\n",
            "https://www.amazon.com/Schwinn-Electric-Scooter-Lightweight-Aluminum/dp/B0BKR5BYSC/ref=sr_1_5?keywords=electric+scooter&qid=1696891997&sr=8-5\n",
            "https://www.amazon.com/Electric-Powerful-Honeycomb-Anti-Theft-Portable/dp/B0BLS773KJ/ref=sr_1_6?keywords=electric+scooter&qid=1696891997&sr=8-6\n",
            "https://www.amazon.com/Ninebot-Electric-Long-range-Foldable-Portable/dp/B07WYXXL4V/ref=sr_1_7?keywords=electric+scooter&qid=1696891997&sr=8-7\n",
            "https://www.amazon.com/Phantomgogo-Commuter-R1-Electric-Brushless/dp/B09QYBMBGJ/ref=sr_1_8?keywords=electric+scooter&qid=1696891997&sr=8-8\n",
            "https://www.amazon.com/Electric-Scooter-Commuting-Scooter-Foldable/dp/B0CF54DNS9/ref=sr_1_9?keywords=electric+scooter&qid=1696891997&sr=8-9\n",
            "https://www.amazon.com/Hiboy-Electric-Scooter-Long-Range-Commuting/dp/B086JHCJTX/ref=sr_1_10?keywords=electric+scooter&qid=1696891997&sr=8-10\n",
            "https://www.amazon.com/Electric-Scooter-Solid-20Miles-Adults/dp/B0C9HFF27G/ref=sr_1_11?keywords=electric+scooter&qid=1696891997&sr=8-11\n",
            "https://www.amazon.com/NAVIC-Electric-Scooter-Folding-Commute/dp/B0C1FVH2RJ/ref=sr_1_12?keywords=electric+scooter&qid=1696891997&sr=8-12\n",
            "https://www.amazon.com/URBANMAX-C1-Electric-Powerful-Commuting/dp/B0CCCWNKKZ/ref=sr_1_13?keywords=electric+scooter&qid=1696891997&sr=8-13\n",
            "https://www.amazon.com/Caroma-Electric-Colorful-Certification-Lightweight/dp/B0CHYWMQ61/ref=sr_1_14?keywords=electric+scooter&qid=1696891997&sr=8-14\n",
            "https://www.amazon.com/Gotrax-G4-Pneumatic-Anti-theft-Headlight/dp/B08VW45139/ref=sr_1_15?keywords=electric+scooter&qid=1696891997&sr=8-15\n",
            "https://www.amazon.com/Electric-TODO-Foldable-Range12-19Mile-Powerful/dp/B0BQYP1JM7/ref=sr_1_16?keywords=electric+scooter&qid=1696891997&sr=8-16\n",
            "https://www.amazon.com/Segway-D18W-KickScooter-Pneumatic-Commuting/dp/B0BS5MM8QV/ref=sr_1_17?keywords=electric+scooter&qid=1696891997&sr=8-17\n",
            "https://www.amazon.com/iScooter-Electric-Teenages-Pneumatic-Foldable/dp/B0BGQBHZ4Q/ref=sr_1_18?keywords=electric+scooter&qid=1696891997&sr=8-18\n",
            "https://www.amazon.com/Electric-19-21Miles-Foldable-Scooters-Commuter/dp/B0C65RM6NB/ref=sr_1_19?keywords=electric+scooter&qid=1696891997&sr=8-19\n",
            "https://www.amazon.com/Aovopro-ESMAX-Anti-Puncture-Self-Sealing-Commuting/dp/B0B882M7QC/ref=sr_1_20?keywords=electric+scooter&qid=1696891997&sr=8-20\n",
            "https://www.amazon.com/Greevego-Scooter%EF%BC%8C350W-Long-Range-Honeycomb-Adjustable/dp/B0C14KDVS5/ref=sr_1_21?keywords=electric+scooter&qid=1696891997&sr=8-21\n",
            "https://www.amazon.com/VOLPAM-Electric-Suspension-Long-Range-Commuting/dp/B0BYVKJ42L/ref=sr_1_22?keywords=electric+scooter&qid=1696891997&sr=8-22\n",
            "https://www.amazon.com/Gotrax-16-25miles-15-5-20mph-Comfortable-Adujustable/dp/B08VWK82HF/ref=sr_1_23?keywords=electric+scooter&qid=1696891997&sr=8-23\n",
            "https://www.amazon.com/Segway-E22-Electric-Upgraded-Lightweight/dp/B08BP59X75/ref=sr_1_24?keywords=electric+scooter&qid=1696891997&sr=8-24\n",
            "https://www.amazon.com/GOTRAX-GXL-Commuting-Electric-Scooter/dp/B085WCXWQ7/ref=sr_1_25?keywords=electric+scooter&qid=1696891997&sr=8-25\n",
            "https://www.amazon.com/NIU-Electric-Scooter-Adults-Certified/dp/B09BJHLYNH/ref=sr_1_26?keywords=electric+scooter&qid=1696891997&sr=8-26\n",
            "https://www.amazon.com/isinwheel-Electric-Scooter-Suspensions-Braking/dp/B09PGC6F3L/ref=sr_1_27?keywords=electric+scooter&qid=1696891997&sr=8-27\n",
            "https://www.amazon.com/NIU-KQi2-Electric-Scooter-Adults/dp/B09MTCZXNS/ref=sr_1_28?keywords=electric+scooter&qid=1696891997&sr=8-28\n",
            "https://www.amazon.com/EVERCROSS-Electric-Scooter-Miles-10-Braking/dp/B08VMYHTVP/ref=sr_1_29?keywords=electric+scooter&qid=1696891997&sr=8-29\n",
            "https://www.amazon.com/Caroma-Electric-Scooter-Portable-Suspension/dp/B0CHYTRFQ2/ref=sr_1_30?keywords=electric+scooter&qid=1696891997&sr=8-30\n",
            "https://www.amazon.com/JOYOR-S5-Electric-Scooters-Foldable/dp/B0BGS79QP7/ref=sr_1_31?keywords=electric+scooter&qid=1696891997&sr=8-31\n",
            "https://www.amazon.com/Folding-Electric-Scooter-Pneumatic-Braking/dp/B0BSFDQ4SP/ref=sr_1_32?keywords=electric+scooter&qid=1696891997&sr=8-32\n",
            "https://www.amazon.com/ANHAO-Electric-Scooter-Adjustable-Anti-Slip/dp/B0C9LXKJ7J/ref=sr_1_33?keywords=electric+scooter&qid=1696891997&sr=8-33\n",
            "https://www.amazon.com/Hiboy-Pro-Electric-Scooter-Long-Range/dp/B086N23QBD/ref=sr_1_34?keywords=electric+scooter&qid=1696891997&sr=8-34\n",
            "https://www.amazon.com/EVERCROSS-EV06C-Electric-Foldable-Lightweight/dp/B0B742DMZF/ref=sr_1_35?keywords=electric+scooter&qid=1696891997&sr=8-35\n",
            "https://www.amazon.com/Gotrax-Eclipse-Ultra-Saddle-Suspension/dp/B0C1SWJ5NF/ref=sr_1_36?keywords=electric+scooter&qid=1696891997&sr=8-36\n",
            "https://www.amazon.com/Razor-Power-Core-Electric-Scooter/dp/B083G8KNGT/ref=sr_1_37?keywords=electric+scooter&qid=1696891997&sr=8-37\n",
            "https://www.amazon.com/VOLPAM-SP06-Electric-Long-Range-Commuting/dp/B0B5ZSLHG2/ref=sr_1_38?keywords=electric+scooter&qid=1696891997&sr=8-38\n",
            "https://www.amazon.com/Wheelspeed-Primer-Lightweight-Commuting-Anti-Theft/dp/B0C3HPLYVP/ref=sr_1_39?keywords=electric+scooter&qid=1696891997&sr=8-39\n",
            "https://www.amazon.com/iScooter-Electric-Scooter-18Miles-Braking/dp/B0C3CXH44Q/ref=sr_1_40?keywords=electric+scooter&qid=1696891997&sr=8-40\n",
            "https://www.amazon.com/COFANSON-Electric-Scooter-Adults-Speed/dp/B0B769ML6N/ref=sr_1_41?keywords=electric+scooter&qid=1696891997&sr=8-41\n",
            "https://www.amazon.com/Electric-Scooter-Adjustable-Throttle-Foldable/dp/B0BT9BMRSS/ref=sr_1_42?keywords=electric+scooter&qid=1696891997&sr=8-42\n",
            "https://www.amazon.com/Electric-Bluetooth-Colorful-Adjustable-Foldable/dp/B0C53FJRJ9/ref=sr_1_43?keywords=electric+scooter&qid=1696891997&sr=8-43\n",
            "https://www.amazon.com/Segway-Ninebot-KickScooter-Electric-Mobility-Upgraded/dp/B07H8T9K9J/ref=sr_1_44?keywords=electric+scooter&qid=1696891997&sr=8-44\n",
            "https://www.amazon.com/Evdekoru-Electric-Portable-Commuting-Long-Range/dp/B0CG37CSSN/ref=sr_1_45?keywords=electric+scooter&qid=1696891997&sr=8-45\n",
            "https://www.amazon.com/Atomi-Electric-E20-Portable-Commuting/dp/B0C4PHR2R1/ref=sr_1_46?keywords=electric+scooter&qid=1696891997&sr=8-46\n",
            "https://www.amazon.com/Razor-E200-Electric-Scooter-White/dp/B083G839WF/ref=sr_1_47?keywords=electric+scooter&qid=1696891997&sr=8-47\n",
            "https://www.amazon.com/Razor-E200S-Seated-Electric-Scooter/dp/B0085HM2I8/ref=sr_1_48?keywords=electric+scooter&qid=1696891997&sr=8-48\n",
            "https://www.amazon.com/Electric-Colorful-Adjustable-Foldable-Scooter/dp/B0BZZ62ZGD/ref=sr_1_49?keywords=electric+scooter&qid=1696892002&sr=8-49\n",
            "https://www.amazon.com/Electric-Scooter-Commuter-19-21Miles-Foldable/dp/B0CBSCZDPR/ref=sr_1_50?keywords=electric+scooter&qid=1696892002&sr=8-50\n",
            "https://www.amazon.com/Gotrax-GKS-LUMIOS-Electric-Scooter/dp/B08NPT62JH/ref=sr_1_51?keywords=electric+scooter&qid=1696892002&sr=8-51\n",
            "https://www.amazon.com/Caroma-Electric-Foldable-Adjustable-Lightweight/dp/B0CHYYXJPB/ref=sr_1_52?keywords=electric+scooter&qid=1696892002&sr=8-52\n",
            "https://www.amazon.com/Electric-Scooter-Foldable-Commuter-Scooter/dp/B0BZYFTJC4/ref=sr_1_53?keywords=electric+scooter&qid=1696892002&sr=8-53\n",
            "https://www.amazon.com/Razor-E100-Glow-Electric-Scooter/dp/B00KCK55IU/ref=sr_1_54?keywords=electric+scooter&qid=1696892002&sr=8-54\n",
            "https://www.amazon.com/5TH-WHEEL-Electric-Scooter-Signals/dp/B0C36HLS1B/ref=sr_1_55?keywords=electric+scooter&qid=1696892002&sr=8-55\n",
            "https://www.amazon.com/Electric-Scooter-Adults-Cruise-Control/dp/B0CGRJNYYN/ref=sr_1_56?keywords=electric+scooter&qid=1696892002&sr=8-56\n",
            "https://www.amazon.com/Caroma-Electric-Scooter-Foldable-Control/dp/B0CHYY2LDS/ref=sr_1_57?keywords=electric+scooter&qid=1696892002&sr=8-57\n",
            "https://www.amazon.com/iScooter-Pneumatic-Adjustable-Handlebar-Foldabable/dp/B0C6SL7N6K/ref=sr_1_58?keywords=electric+scooter&qid=1696892002&sr=8-58\n",
            "https://www.amazon.com/Electric-Scooter-Lithium-Portable-Commuting/dp/B0CHS61135/ref=sr_1_59?keywords=electric+scooter&qid=1696892002&sr=8-59\n",
            "https://www.amazon.com/VOBETSCOOTER-Honeycomb-Foldable-Lightweight-Electric/dp/B0BRW2425D/ref=sr_1_60?keywords=electric+scooter&qid=1696892002&sr=8-60\n",
            "https://www.amazon.com/WAYPLUS-Scooter-Foldable-Lightweight-Adjustable/dp/B09ZY6M8XH/ref=sr_1_61?keywords=electric+scooter&qid=1696892002&sr=8-61\n",
            "https://www.amazon.com/Segway-Transformer-C8-KickScooter-Bumblebee/dp/B0BPBTBVTW/ref=sr_1_62?keywords=electric+scooter&qid=1696892002&sr=8-62\n",
            "https://www.amazon.com/Electric-Auto-Dark-Sensing-Headlights-Intelligent-Scooter/dp/B0CG5WJDL5/ref=sr_1_63?keywords=electric+scooter&qid=1696892002&sr=8-63\n",
            "https://www.amazon.com/EVERCROSS-Electric-Scooter-Scooter-Lightweight/dp/B0C2HL53FR/ref=sr_1_64?keywords=electric+scooter&qid=1696892002&sr=8-64\n",
            "https://www.amazon.com/NAVEE-Electric-Pneumatic-Waterproof-Foldable/dp/B0CC96YBQ8/ref=sr_1_65?keywords=electric+scooter&qid=1696892002&sr=8-65\n",
            "https://www.amazon.com/Electric-Scooter-Adults-Pneumatic-iE-M4PROS/dp/B0BW4661CX/ref=sr_1_66?keywords=electric+scooter&qid=1696892002&sr=8-66\n",
            "https://www.amazon.com/Gotrax-GXL-V2-Pneumatic-Lightweight/dp/B07ZJTWC1J/ref=sr_1_67?keywords=electric+scooter&qid=1696892002&sr=8-67\n",
            "https://www.amazon.com/Mobo-Recumbent-Bicycle-Adaptive-Tricycle/dp/B003VGFN7K/ref=sr_1_68?keywords=electric+scooter&qid=1696892002&sr=8-68\n",
            "https://www.amazon.com/Ausom-Leopard-Electric-Removable-Suspension/dp/B0CB3LHD36/ref=sr_1_69?keywords=electric+scooter&qid=1696892002&sr=8-69\n",
            "https://www.amazon.com/NAVIC-TS5-Electric-Bluetooth-Certificate/dp/B0C8T5ZGBP/ref=sr_1_70?keywords=electric+scooter&qid=1696892002&sr=8-70\n",
            "https://www.amazon.com/Gotrax-FLEX-ULTRA-Comfortable-Adujustable/dp/B0C98P4Z29/ref=sr_1_71?keywords=electric+scooter&qid=1696892002&sr=8-71\n",
            "https://www.amazon.com/ENGWE-Electric-Scooter-Battery-Suspension/dp/B0CBJHCG1L/ref=sr_1_72?keywords=electric+scooter&qid=1696892002&sr=8-72\n",
            "https://www.amazon.com/JGH-X5-Electric-Scooter-Pneumatic/dp/B0CD86MN4N/ref=sr_1_73?keywords=electric+scooter&qid=1696892002&sr=8-73\n",
            "https://www.amazon.com/Electric-Scooter-Commuting-Portable-Scooter/dp/B0C2LCSBMB/ref=sr_1_74?keywords=electric+scooter&qid=1696892002&sr=8-74\n",
            "https://www.amazon.com/Razor-Motorized-24-Volt-Rechargeable-Electric/dp/B01KMOIR94/ref=sr_1_75?keywords=electric+scooter&qid=1696892002&sr=8-75\n",
            "https://www.amazon.com/ZSNAKE-Electric-Tubeless-Off-Road-Detachable/dp/B0CC5F2C1B/ref=sr_1_76?keywords=electric+scooter&qid=1696892002&sr=8-76\n",
            "No table found\n",
            "https://www.amazon.com/1PLUS-Electric-Commuter-Long-range-Foldable/dp/B09NXNLGNB/ref=sr_1_77?keywords=electric+scooter&qid=1696892002&sr=8-77\n",
            "https://www.amazon.com/EVERCROSS-Electric-Scooter-EV08S-Teenagers/dp/B0B81B6RCF/ref=sr_1_78?keywords=electric+scooter&qid=1696892002&sr=8-78\n",
            "https://www.amazon.com/Electric-Kugookirin-G3-Powerful-Capacity/dp/B09VC7SPJB/ref=sr_1_79?keywords=electric+scooter&qid=1696892002&sr=8-79\n",
            "https://www.amazon.com/Electric-Scooter-48V16AH-High-Capacity-Absorber/dp/B0BRJ45VP9/ref=sr_1_80?keywords=electric+scooter&qid=1696892002&sr=8-80\n",
            "https://www.amazon.com/MEGAWHEELS-Electric-Scooter-Powerful-Foldable/dp/B08LMWR1PL/ref=sr_1_81?keywords=electric+scooter&qid=1696892002&sr=8-81\n",
            "https://www.amazon.com/Gotrax-KS1-Adjustable-Handlebars-Anti-Slip/dp/B0CCYMV1T1/ref=sr_1_82?keywords=electric+scooter&qid=1696892002&sr=8-82\n",
            "https://www.amazon.com/Razor-E300-Electric-Scooter-Matte/dp/B0085HM36Y/ref=sr_1_83?keywords=electric+scooter&qid=1696892002&sr=8-83\n",
            "https://www.amazon.com/JOYOR-S10-S-Electric-Hydraulic-Beginners/dp/B0BGRBBTJ4/ref=sr_1_84?keywords=electric+scooter&qid=1696892002&sr=8-84\n",
            "https://www.amazon.com/Electric-Scooter-Upgraded-Battery-Off-Road/dp/B0C74R3Q8G/ref=sr_1_85?keywords=electric+scooter&qid=1696892002&sr=8-85\n",
            "https://www.amazon.com/Segway-KickScooter-Brushless-Shock-Absorbing-Electronic/dp/B0C4MZH1ZR/ref=sr_1_86?keywords=electric+scooter&qid=1696892002&sr=8-86\n",
            "https://www.amazon.com/Jetson-Electric-Scooter-Light-Up-Throttle/dp/B0BLPF149R/ref=sr_1_87?keywords=electric+scooter&qid=1696892002&sr=8-87\n",
            "https://www.amazon.com/Electric-Scooter-Off-Road-Braking-Commuter/dp/B0BN69VRHT/ref=sr_1_88?keywords=electric+scooter&qid=1696892002&sr=8-88\n",
            "https://www.amazon.com/Electric-Scooter-Adult-Speed-Brakes/dp/B0CJ2L82H1/ref=sr_1_89?keywords=electric+scooter&qid=1696892002&sr=8-89\n",
            "https://www.amazon.com/NIU-KQi3-Max-Self-Healing-Certified/dp/B0B73JDVSF/ref=sr_1_90?keywords=electric+scooter&qid=1696892002&sr=8-90\n",
            "https://www.amazon.com/5TH-WHEEL-M1-Electric-Scooter/dp/B0BQ61MRBL/ref=sr_1_91?keywords=electric+scooter&qid=1696892002&sr=8-91\n",
            "https://www.amazon.com/5TH-WHEEL-Electric-Foldable-Scooters/dp/B0C36Q2VMJ/ref=sr_1_92?keywords=electric+scooter&qid=1696892002&sr=8-92\n",
            "https://www.amazon.com/NAVEETECH-Electric-Lightweight-Commuting-Pneumatic/dp/B0BHW1M6K5/ref=sr_1_93?keywords=electric+scooter&qid=1696892002&sr=8-93\n",
            "https://www.amazon.com/Electric-Scooter-Terrian-Braking-Absorption/dp/B0BN5N543S/ref=sr_1_94?keywords=electric+scooter&qid=1696892002&sr=8-94\n",
            "https://www.amazon.com/Electric-Honeycomb-Foldable-Portable-Commuter/dp/B0BB2WC9YH/ref=sr_1_95?keywords=electric+scooter&qid=1696892002&sr=8-95\n",
            "https://www.amazon.com/Caroma-Electric-Adjustable-Kick-Start-Lightweight/dp/B0CHYX9Z4T/ref=sr_1_96?keywords=electric+scooter&qid=1696892002&sr=8-96\n",
            "https://www.amazon.com/Caroma-Electric-Adjustable-Kick-Start-Lightweight/dp/B0CHYX9Z4T/ref=sr_1_97?keywords=electric+scooter&qid=1696892008&sr=8-97\n",
            "https://www.amazon.com/Electric-Scooter-Powerful-Capacity-Absorption/dp/B0B5891GS2/ref=sr_1_98?keywords=electric+scooter&qid=1696892008&sr=8-98\n",
            "https://www.amazon.com/OKAI-ES50B-Electric-Scooter-Lightweight/dp/B0BGK4RCK8/ref=sr_1_99?keywords=electric+scooter&qid=1696892008&sr=8-99\n",
            "https://www.amazon.com/YUME-Electric-Suspensions-Foldable-Escooter/dp/B08SG8CBK8/ref=sr_1_100?keywords=electric+scooter&qid=1696892008&sr=8-100\n",
            "https://www.amazon.com/Electric-Commuting-Absorption-Commuter-Scooter/dp/B0C1ZQT3XT/ref=sr_1_101?keywords=electric+scooter&qid=1696892008&sr=8-101\n",
            "https://www.amazon.com/Caroma-Electric-Colorful-Adjustable-Kick-Start/dp/B0CHYW3H77/ref=sr_1_102?keywords=electric+scooter&qid=1696892008&sr=8-102\n",
            "https://www.amazon.com/Electric-Scooter-8-5-Anti-Theft-Foldable-Commuter/dp/B0CGN9SBDF/ref=sr_1_103?keywords=electric+scooter&qid=1696892008&sr=8-103\n",
            "https://www.amazon.com/KUKIRIN-Electric-Scooter-Powerful-Capacity/dp/B0BND89JLW/ref=sr_1_104?keywords=electric+scooter&qid=1696892008&sr=8-104\n",
            "https://www.amazon.com/Electric-Commuting-Scooter-Foldable-Portable/dp/B0CGX7SVPC/ref=sr_1_105?keywords=electric+scooter&qid=1696892008&sr=8-105\n",
            "https://www.amazon.com/M4Pro-Electric-Scooter-Off-Road-Commuter/dp/B0BCJRBHGJ/ref=sr_1_106?keywords=electric+scooter&qid=1696892008&sr=8-106\n",
            "https://www.amazon.com/Hiboy-KS4-Pro-Honeycomb-Long-Range/dp/B09HCQCQVY/ref=sr_1_107?keywords=electric+scooter&qid=1696892008&sr=8-107\n",
            "https://www.amazon.com/Swagtron-Electric-Lightweight-Adjustable-Suspension/dp/B07TJWPZ6K/ref=sr_1_108?keywords=electric+scooter&qid=1696892008&sr=8-108\n",
            "https://www.amazon.com/Uzi-Official-Multiple-Battery-Compatible-Balancing/dp/B0C3Y66KFX/ref=sr_1_109?keywords=electric+scooter&qid=1696892008&sr=8-109\n",
            "https://www.amazon.com/Hover-1-Electric-Foldable-Portable-Air-Filled/dp/B0835947BK/ref=sr_1_110?keywords=electric+scooter&qid=1696892008&sr=8-110\n",
            "https://www.amazon.com/Hurtle-Folding-Electric-Scooter-Scooter/dp/B0BQ4SXTRL/ref=sr_1_111?keywords=electric+scooter&qid=1696892008&sr=8-111\n",
            "https://www.amazon.com/OKAI-Beetle-Electric-Scooter-15-5MPH/dp/B09HH7G1P2/ref=sr_1_112?keywords=electric+scooter&qid=1696892008&sr=8-112\n",
            "https://www.amazon.com/Electric-Long-Range-Portable-Foldable-Commuting/dp/B0C38X2Q18/ref=sr_1_113?keywords=electric+scooter&qid=1696892008&sr=8-113\n",
            "https://www.amazon.com/Gotrax-GKS-Electric-Scooter-Kids/dp/B07VWLW5QR/ref=sr_1_114?keywords=electric+scooter&qid=1696892008&sr=8-114\n",
            "https://www.amazon.com/VOBET-Electric-Portable-Commuting-Absorption/dp/B09YTWP29T/ref=sr_1_115?keywords=electric+scooter&qid=1696892008&sr=8-115\n",
            "https://www.amazon.com/Massimo-Electric-Adjustable-Lightweight-Commuting/dp/B0B8TMHYTH/ref=sr_1_116?keywords=electric+scooter&qid=1696892008&sr=8-116\n",
            "https://www.amazon.com/Segway-SuperScooter-GT2P-Anti-Puncture-Transparent/dp/B0BHSHQKW8/ref=sr_1_117?keywords=electric+scooter&qid=1696892008&sr=8-117\n",
            "https://www.amazon.com/Razor-C45-Electric-Scooter-Bluetooth/dp/B0BW31SHN8/ref=sr_1_118?keywords=electric+scooter&qid=1696892008&sr=8-118\n",
            "https://www.amazon.com/Razor-Motorized-24-Volt-Electric-Rechargeable/dp/B00NLN3QFE/ref=sr_1_119?keywords=electric+scooter&qid=1696892008&sr=8-119\n",
            "https://www.amazon.com/PLAYBIK-Electric-Commuter-19-21Miles-Powerful/dp/B0BDMF7PZH/ref=sr_1_120?keywords=electric+scooter&qid=1696892008&sr=8-120\n",
            "https://www.amazon.com/Electric-Long-range-Certified-Ultra-Lightweight-Commuter/dp/B07ZJV8L7H/ref=sr_1_121?keywords=electric+scooter&qid=1696892008&sr=8-121\n",
            "https://www.amazon.com/MAXTRA-Upgraded-Electric-Adjustable-Handlebar/dp/B08H87PPJN/ref=sr_1_122?keywords=electric+scooter&qid=1696892008&sr=8-122\n",
            "https://www.amazon.com/ScootHop-Electric-Toddlers-Adjustable-PG-K3/dp/B09G681ZWK/ref=sr_1_123?keywords=electric+scooter&qid=1696892008&sr=8-123\n",
            "https://www.amazon.com/MAXTRA-Electric-Scooter-Battery-Removable/dp/B0BG2MXSL1/ref=sr_1_124?keywords=electric+scooter&qid=1696892008&sr=8-124\n",
            "https://www.amazon.com/glion-Glion-DollyXL-255/dp/B0C7WRNVZK/ref=sr_1_125?keywords=electric+scooter&qid=1696892008&sr=8-125\n",
            "https://www.amazon.com/Electric-Fast-Charging-Motorized-Portable-Commuter/dp/B0CGWK9WSF/ref=sr_1_126?keywords=electric+scooter&qid=1696892008&sr=8-126\n",
            "https://www.amazon.com/ElitePrime-Electric-Scooter-18-6MPH-Suspension/dp/B0C3M6TSKY/ref=sr_1_127?keywords=electric+scooter&qid=1696892008&sr=8-127\n",
            "https://www.amazon.com/G-CYCLE-Waterproof-Handlebar-Electric-Including/dp/B0BDFNK2F2/ref=sr_1_128?keywords=electric+scooter&qid=1696892008&sr=8-128\n",
            "https://www.amazon.com/Hover-1-Attachment-Electric-Transform-Hoverboard/dp/B06WWP3CL9/ref=sr_1_129?keywords=electric+scooter&qid=1696892008&sr=8-129\n",
            "https://www.amazon.com/OKAI-Neon-Lite-Electric-Scooter/dp/B0BWYDVGCV/ref=sr_1_130?keywords=electric+scooter&qid=1696892008&sr=8-130\n",
            "https://www.amazon.com/Segway-F25-Electric-Powerful-Pneumatic/dp/B09MLNZY3G/ref=sr_1_131?keywords=electric+scooter&qid=1696892008&sr=8-131\n",
            "https://www.amazon.com/Blutron-S40-Impressive-Suspension-Pneumatic/dp/B0B92L3JP9/ref=sr_1_132?keywords=electric+scooter&qid=1696892008&sr=8-132\n",
            "https://www.amazon.com/Electric-Scooter-Waterproof-Foldable-Scooter/dp/B0BHNFJZB5/ref=sr_1_133?keywords=electric+scooter&qid=1696892008&sr=8-133\n",
            "https://www.amazon.com/drosery-Electric-Scooter-Battery-Commuter/dp/B0BWWDXYBN/ref=sr_1_134?keywords=electric+scooter&qid=1696892008&sr=8-134\n",
            "https://www.amazon.com/Exercise-Stationary-Magnetic-Recumbent-Resistance/dp/B09HHBDF3B/ref=sr_1_135?keywords=electric+scooter&qid=1696892008&sr=8-135\n",
            "https://www.amazon.com/Jetson-Electric-Bike-Jupiter-Folding/dp/B08B48VMCY/ref=sr_1_136?keywords=electric+scooter&qid=1696892008&sr=8-136\n",
            "https://www.amazon.com/GTRACING-Electric-Foldable-Commuting-Pneumatic/dp/B0CDGTVXBG/ref=sr_1_137?keywords=electric+scooter&qid=1696892008&sr=8-137\n",
            "https://www.amazon.com/Durable-Motorized-High-Torque-Electric-Pneumatic/dp/B01KW6K65U/ref=sr_1_138?keywords=electric+scooter&qid=1696892008&sr=8-138\n",
            "https://www.amazon.com/Electric-Commuter-Portable-Honeycomb-Scooter/dp/B0CHW1NG43/ref=sr_1_139?keywords=electric+scooter&qid=1696892008&sr=8-139\n",
            "https://www.amazon.com/KuKirin-G2Pro-Electric-Foldable-Commuter/dp/B0BJ2QJ2DP/ref=sr_1_140?keywords=electric+scooter&qid=1696892008&sr=8-140\n",
            "https://www.amazon.com/SEHOMY-Electric-Commuting-Scooters-Green-Yellow/dp/B0BCHWX58W/ref=sr_1_141?keywords=electric+scooter&qid=1696892008&sr=8-141\n",
            "https://www.amazon.com/T88-Electric-Hydraulic-Absorption-Off-Road/dp/B0CHPBVCRF/ref=sr_1_142?keywords=electric+scooter&qid=1696892008&sr=8-142\n",
            "https://www.amazon.com/Gyroor-Electric-Absorbers-Components-Waterproof/dp/B09LZ3139N/ref=sr_1_143?keywords=electric+scooter&qid=1696892008&sr=8-143\n",
            "https://www.amazon.com/Circooter-Mate-Electric-Scooter-Certified/dp/B0BCPSVFG3/ref=sr_1_144?keywords=electric+scooter&qid=1696892008&sr=8-144\n",
            "https://www.amazon.com/Inmotion-Electric-Suspensions-Pneumatic-Commuting/dp/B09TDTGLR8/ref=sr_1_145?keywords=electric+scooter&qid=1696892012&sr=8-145\n",
            "https://www.amazon.com/Folding-Electric-Scooters-Scooter-Lithium-ion/dp/B0B1S15V4P/ref=sr_1_146?keywords=electric+scooter&qid=1696892012&sr=8-146\n",
            "https://www.amazon.com/Electric-Scooter-Commuter-Kickscooter-Brushless/dp/B0CHY86J6P/ref=sr_1_147?keywords=electric+scooter&qid=1696892012&sr=8-147\n",
            "https://www.amazon.com/Gotrax-Gpro-Electric-Scooter-Max-24-Mile-15-5Mph-Power-350W-Motor-LG-Battery-Double-Anti-Theft-Lock/dp/B093T2Q1FH/ref=sr_1_148?keywords=electric+scooter&qid=1696892012&sr=8-148\n",
            "https://www.amazon.com/Electric-Commuting-Scooter-Foldable-Portable/dp/B0CC2ZM726/ref=sr_1_149?keywords=electric+scooter&qid=1696892012&sr=8-149\n",
            "https://www.amazon.com/MAXTRA-Electric-Foldable-Adjustable-Handlebar/dp/B0BF9XT1ZF/ref=sr_1_150?keywords=electric+scooter&qid=1696892012&sr=8-150\n",
            "https://www.amazon.com/Folding-Electric-Scooter-Adults-HURES18-M5/dp/B087C9X2MK/ref=sr_1_151?keywords=electric+scooter&qid=1696892012&sr=8-151\n",
            "https://www.amazon.com/Atomi-Alpha-Electric-Colorful-Combination/dp/B0BD87TN6G/ref=sr_1_152?keywords=electric+scooter&qid=1696892012&sr=8-152\n",
            "https://www.amazon.com/Electric-Scooter-Long-Range-Scooter-Commuter/dp/B0CBNRXKPR/ref=sr_1_153?keywords=electric+scooter&qid=1696892012&sr=8-153\n",
            "https://www.amazon.com/Hoverfly-F1-Pneumatic-Headlight-Taillight/dp/B09H5G634Q/ref=sr_1_154?keywords=electric+scooter&qid=1696892012&sr=8-154\n",
            "https://www.amazon.com/TopMate-ES32-Electric-Foldable-Pneumatic/dp/B0C23V3384/ref=sr_1_155?keywords=electric+scooter&qid=1696892012&sr=8-155\n",
            "https://www.amazon.com/Razor-E300S-Seated-Electric-Scooter/dp/B0085HM3VE/ref=sr_1_156?keywords=electric+scooter&qid=1696892012&sr=8-156\n",
            "https://www.amazon.com/Jetson-Lightyear-Electric-Lithium-ion-Certified/dp/B09TMQFGFM/ref=sr_1_157?keywords=electric+scooter&qid=1696892012&sr=8-157\n",
            "https://www.amazon.com/isinwheel-GT2-Electric-Commuting-Suspension/dp/B0C5JP1B52/ref=sr_1_158?keywords=electric+scooter&qid=1696892012&sr=8-158\n",
            "https://www.amazon.com/Adults-Electric-Scooter-velCying-SuperScooter/dp/B0C1415WSG/ref=sr_1_159?keywords=electric+scooter&qid=1696892012&sr=8-159\n",
            "https://www.amazon.com/Aovowheel-ES7-Electric-Scooter-Suspension/dp/B0BZD2WFJD/ref=sr_1_160?keywords=electric+scooter&qid=1696892012&sr=8-160\n",
            "https://www.amazon.com/Gotrax-Electric-Foldable-Commuting-Scooters/dp/B08TC7Q25Y/ref=sr_1_161?keywords=electric+scooter&qid=1696892012&sr=8-161\n",
            "https://www.amazon.com/Hurtle-Folding-Electric-Scooter-Scooter/dp/B0BQ4SDL38/ref=sr_1_162?keywords=electric+scooter&qid=1696892012&sr=8-162\n",
            "https://www.amazon.com/Arwibon-Q30Pro-Electric-Scooter-Adults/dp/B0CBH1JRFD/ref=sr_1_163?keywords=electric+scooter&qid=1696892012&sr=8-163\n",
            "https://www.amazon.com/isinwheel-GT2-Electric-Long-Range-Commuting/dp/B0CC9M81LD/ref=sr_1_164?keywords=electric+scooter&qid=1696892012&sr=8-164\n",
            "https://www.amazon.com/MAXTRA-Upgraded-Electric-Adjustable-Handlebar/dp/B08H7XM3W4/ref=sr_1_165?keywords=electric+scooter&qid=1696892012&sr=8-165\n",
            "https://www.amazon.com/VIRO-Rides-Rechargeable-Electric-Scooter/dp/B07B8FLMR6/ref=sr_1_166?keywords=electric+scooter&qid=1696892012&sr=8-166\n",
            "https://www.amazon.com/Jetson-Electric-Motion-Activated-Easy-Folding-Mechanism/dp/B091MR6DNC/ref=sr_1_167?keywords=electric+scooter&qid=1696892012&sr=8-167\n",
            "https://www.amazon.com/Jetson-Electric-Bike-150-Watt-Foldable/dp/B094BXQ6KW/ref=sr_1_168?keywords=electric+scooter&qid=1696892012&sr=8-168\n",
            "https://www.amazon.com/VOLPAM-Electric-Scooter-Brushless-Colorful/dp/B0B9WDVBQ7/ref=sr_1_169?keywords=electric+scooter&qid=1696892012&sr=8-169\n",
            "https://www.amazon.com/Mongoose-Electric-Aluminum-Handlebars-Included/dp/B085JJNHWN/ref=sr_1_170?keywords=electric+scooter&qid=1696892012&sr=8-170\n",
            "https://www.amazon.com/Electric-Scooters-Folding-Scooter-Pneumatic/dp/B0CCKRQ8M1/ref=sr_1_171?keywords=electric+scooter&qid=1696892012&sr=8-171\n",
            "https://www.amazon.com/TIFGALOP-Electric-80-90KM%EF%BC%8C10-tubeless-Convenient/dp/B09TH1B7H4/ref=sr_1_172?keywords=electric+scooter&qid=1696892012&sr=8-172\n",
            "https://www.amazon.com/Gotrax-Scout-Electric-Certified-Aprroved/dp/B09NY75NYL/ref=sr_1_173?keywords=electric+scooter&qid=1696892012&sr=8-173\n",
            "https://www.amazon.com/SKRT-Electric-Commuter-Long-Range-Foldable/dp/B081CC8LSM/ref=sr_1_174?keywords=electric+scooter&qid=1696892012&sr=8-174\n",
            "https://www.amazon.com/iENYRID-Electric-Detachable-Pneumatic-Commuter/dp/B0BTY5VX3W/ref=sr_1_175?keywords=electric+scooter&qid=1696892012&sr=8-175\n",
            "https://www.amazon.com/MEGAWHEELS-Electric-Pneumatic-Tubeless-Commuting/dp/B0BJCZTC3Y/ref=sr_1_176?keywords=electric+scooter&qid=1696892012&sr=8-176\n",
            "https://www.amazon.com/Fieabor-Electric-Kick-Scooter-Adults/dp/B0B1C1MZ49/ref=sr_1_177?keywords=electric+scooter&qid=1696892012&sr=8-177\n",
            "https://www.amazon.com/Electric-Scooter-Upgraded-Battery-Off-Road/dp/B0C74V6S26/ref=sr_1_178?keywords=electric+scooter&qid=1696892012&sr=8-178\n",
            "https://www.amazon.com/Mobility-Electric-Scooters-Collapsible-Extended/dp/B0C76TPM2T/ref=sr_1_179?keywords=electric+scooter&qid=1696892012&sr=8-179\n",
            "No table found\n",
            "https://www.amazon.com/Populo-Electric-Scooter-Pneumatic-Commuting/dp/B07VXPDTL8/ref=sr_1_180?keywords=electric+scooter&qid=1696892012&sr=8-180\n",
            "https://www.amazon.com/Electric-Scooter-Adults-45%C2%B15MPH-Folding/dp/B0CJHMRGKB/ref=sr_1_181?keywords=electric+scooter&qid=1696892012&sr=8-181\n",
            "https://www.amazon.com/Electric-Upgraded-Adults-19-Foldable-Commuter/dp/B0C6DVHSZJ/ref=sr_1_182?keywords=electric+scooter&qid=1696892012&sr=8-182\n",
            "https://www.amazon.com/SA3-Electric-Powerful-LED-Display-Commuting/dp/B09YNRC7CY/ref=sr_1_183?keywords=electric+scooter&qid=1696892012&sr=8-183\n",
            "https://www.amazon.com/ALLMOVE-X1-Pro-Adjustable-Lightweight/dp/B0B5185RBR/ref=sr_1_184?keywords=electric+scooter&qid=1696892012&sr=8-184\n",
            "https://www.amazon.com/YADEA-Electric-Scooter-KS3-Lite/dp/B0CG8RS84G/ref=sr_1_185?keywords=electric+scooter&qid=1696892012&sr=8-185\n",
            "https://www.amazon.com/isinwheel-Electric-Scooter-Flashing-Adjustable/dp/B09QHK2K1P/ref=sr_1_186?keywords=electric+scooter&qid=1696892012&sr=8-186\n",
            "https://www.amazon.com/Electric-18-5Miles-Foldable-Scooters-Commuter/dp/B0CHYQR42S/ref=sr_1_187?keywords=electric+scooter&qid=1696892012&sr=8-187\n",
            "https://www.amazon.com/Hiboy-S2R-Plus-Detachable-Pneumatic/dp/B0BVDDR385/ref=sr_1_188?keywords=electric+scooter&qid=1696892012&sr=8-188\n",
            "https://www.amazon.com/Electric-Scooter-Doulve-Updated-40Miles/dp/B0CJBZ4YC8/ref=sr_1_189?keywords=electric+scooter&qid=1696892012&sr=8-189\n",
            "https://www.amazon.com/CUNFON-Electric-Scooter-Adults-Suspension/dp/B0CJ95SMRT/ref=sr_1_190?keywords=electric+scooter&qid=1696892012&sr=8-190\n",
            "https://www.amazon.com/UberScoot-EVO-1600-1600w-Electric-Scooter/dp/B0100QMBWI/ref=sr_1_191?keywords=electric+scooter&qid=1696892012&sr=8-191\n",
            "https://www.amazon.com/Electric-Scooter-Off-Road-Foldable-Removable/dp/B09TL346JR/ref=sr_1_192?keywords=electric+scooter&qid=1696892012&sr=8-192\n",
            "https://www.amazon.com/UberScoot-EVO-1600-1600w-Electric-Scooter/dp/B0100QMBWI/ref=sr_1_193?keywords=electric+scooter&qid=1696892018&sr=8-193\n",
            "https://www.amazon.com/Electric-Scooter-Off-Road-Foldable-Removable/dp/B09TL346JR/ref=sr_1_194?keywords=electric+scooter&qid=1696892018&sr=8-194\n",
            "https://www.amazon.com/Scoothop-Electric-Bluetooth-Adjustable-Adjustment/dp/B0C1SM1L4X/ref=sr_1_195?keywords=electric+scooter&qid=1696892018&sr=8-195\n",
            "https://www.amazon.com/TopMate-ES32-Electric-10-Inches-Pneumatic-Comfortable-Suspension/dp/B08DJ2C98T/ref=sr_1_196?keywords=electric+scooter&qid=1696892018&sr=8-196\n",
            "https://www.amazon.com/ALLMOVE-Electric-Honeycomb-Portable-X10/dp/B0BNLBCXGZ/ref=sr_1_197?keywords=electric+scooter&qid=1696892018&sr=8-197\n",
            "https://www.amazon.com/Electric-16Ah-Battery-Suspension-Off-Road/dp/B0BTY6CJSK/ref=sr_1_198?keywords=electric+scooter&qid=1696892018&sr=8-198\n",
            "https://www.amazon.com/OKAI-NEON-Electric-Scooter-Adults/dp/B09MD717PF/ref=sr_1_199?keywords=electric+scooter&qid=1696892018&sr=8-199\n",
            "https://www.amazon.com/isinwheel-Electric-Scooter-Flashing-Adjustable/dp/B0B97NHL3Z/ref=sr_1_200?keywords=electric+scooter&qid=1696892018&sr=8-200\n",
            "https://www.amazon.com/Electric-EFGTEK-Foldable-Scooter-Despatchable/dp/B0CFG2PHFF/ref=sr_1_201?keywords=electric+scooter&qid=1696892018&sr=8-201\n",
            "https://www.amazon.com/Razor-Electric-Scooter-Bluetooth%C2%AE-Wireless/dp/B0BT6Z76TK/ref=sr_1_202?keywords=electric+scooter&qid=1696892018&sr=8-202\n",
            "https://www.amazon.com/Ridingtimes-Electric-Removable-Tubeless-Commuter/dp/B0C1MR7L2H/ref=sr_1_203?keywords=electric+scooter&qid=1696892018&sr=8-203\n",
            "https://www.amazon.com/MENGYY-Tricycle-Comfortable-Shopping-Absorber/dp/B09GFJ4Y93/ref=sr_1_204?keywords=electric+scooter&qid=1696892018&sr=8-204\n",
            "https://www.amazon.com/Hover-1-Electric-Foldable-Portable-Air-Filled/dp/B08XWM3B1H/ref=sr_1_205?keywords=electric+scooter&qid=1696892018&sr=8-205\n",
            "https://www.amazon.com/Eskuta-Long-Range-Ultra-Portable-Lightweight-Technology/dp/B08T5XQDDV/ref=sr_1_206?keywords=electric+scooter&qid=1696892018&sr=8-206\n",
            "https://www.amazon.com/Razor-EcoSmart-SUP-Electric-Scooter/dp/B085DHDHMV/ref=sr_1_207?keywords=electric+scooter&qid=1696892018&sr=8-207\n",
            "https://www.amazon.com/Electric-Scooter-Folding-Commuting-Scooter/dp/B0C3KY4X7W/ref=sr_1_208?keywords=electric+scooter&qid=1696892018&sr=8-208\n",
            "https://www.amazon.com/Segway-Air-T15-Lightweight-Step-Control/dp/B08CBCQFXJ/ref=sr_1_209?keywords=electric+scooter&qid=1696892018&sr=8-209\n",
            "https://www.amazon.com/Blutron-S65-Suspension-Pneumatic-Certified/dp/B0B92CQKXQ/ref=sr_1_210?keywords=electric+scooter&qid=1696892018&sr=8-210\n",
            "https://www.amazon.com/Electric-Scooter-EFGTEK-Foldable-Despatchable/dp/B0CFYKFY57/ref=sr_1_211?keywords=electric+scooter&qid=1696892018&sr=8-211\n",
            "https://www.amazon.com/eHoodax-Electric-Seats%EF%BC%8CAdults-Removable-Anti-Theft/dp/B0BVZ9X6PR/ref=sr_1_212?keywords=electric+scooter&qid=1696892018&sr=8-212\n",
            "https://www.amazon.com/Hover-1-Foldable-Electric-Brushless-Honeycomb/dp/B0BP73XNHP/ref=sr_1_213?keywords=electric+scooter&qid=1696892018&sr=8-213\n",
            "https://www.amazon.com/EVERCROSS-EV08E-Electric-Long-Range-Teenagers/dp/B09YR98VNH/ref=sr_1_214?keywords=electric+scooter&qid=1696892018&sr=8-214\n",
            "https://www.amazon.com/Razor-Power-A2-Electric-Scooter/dp/B083G985S4/ref=sr_1_215?keywords=electric+scooter&qid=1696892018&sr=8-215\n",
            "https://www.amazon.com/Hover-1-Scooter-Weight-Training-Children/dp/B0BDDPCYPN/ref=sr_1_216?keywords=electric+scooter&qid=1696892018&sr=8-216\n",
            "https://www.amazon.com/isinwheel-Electric-Scooter-Portable-Commuter/dp/B0BFD462TK/ref=sr_1_217?keywords=electric+scooter&qid=1696892018&sr=8-217\n",
            "https://www.amazon.com/Scooter-Riders-Inmotion-Climber-Electric/dp/B0BRQ6R8Y3/ref=sr_1_218?keywords=electric+scooter&qid=1696892018&sr=8-218\n",
            "https://www.amazon.com/Electric-Scooter-Foldable-Hydraulic-Chargers/dp/B0CJJCTFNL/ref=sr_1_219?keywords=electric+scooter&qid=1696892018&sr=8-219\n",
            "https://www.amazon.com/Electric-Scooter-Hydraulic-Absorption-Suspensions/dp/B0B1KVTMJJ/ref=sr_1_220?keywords=electric+scooter&qid=1696892018&sr=8-220\n",
            "https://www.amazon.com/Razor-Electric-Scooter-High-Torque-All-Steel/dp/B0BZ5TYMF5/ref=sr_1_221?keywords=electric+scooter&qid=1696892018&sr=8-221\n",
            "https://www.amazon.com/Pocket-Miniature-Euro-Style-Electric-Scooter/dp/B002MOP5R0/ref=sr_1_222?keywords=electric+scooter&qid=1696892018&sr=8-222\n",
            "https://www.amazon.com/iENYRID-Commuter-Electric-Certified-Pneumatic/dp/B0C1YJVSZX/ref=sr_1_223?keywords=electric+scooter&qid=1696892018&sr=8-223\n",
            "https://www.amazon.com/Electric-Scooter-Waterproof-Foldable-Scooter/dp/B0BHNCGG8Z/ref=sr_1_224?keywords=electric+scooter&qid=1696892018&sr=8-224\n",
            "https://www.amazon.com/JOYOR-Y7-S-Electric-Scooter-Adults-Black/dp/B09ZX9ZGLZ/ref=sr_1_225?keywords=electric+scooter&qid=1696892018&sr=8-225\n",
            "https://www.amazon.com/Hiboy-Lite-Electric-Scooter-Long-Range/dp/B088ZX69D9/ref=sr_1_226?keywords=electric+scooter&qid=1696892018&sr=8-226\n",
            "https://www.amazon.com/Kaabo-Electric-Performance-Portable-Certified/dp/B0BR7XMQ35/ref=sr_1_227?keywords=electric+scooter&qid=1696892018&sr=8-227\n",
            "https://www.amazon.com/60V33AH-Electric-Scooter-Off-Road-Detachable/dp/B0C85TVXKQ/ref=sr_1_228?keywords=electric+scooter&qid=1696892018&sr=8-228\n",
            "https://www.amazon.com/Evdekoru-Adult-Electric-Scooter-19-21Miles/dp/B0CJJZ7R9T/ref=sr_1_229?keywords=electric+scooter&qid=1696892018&sr=8-229\n",
            "https://www.amazon.com/Electric-Scooter-Colorful-Adjustment-4-Height/dp/B0BZHTH3SD/ref=sr_1_230?keywords=electric+scooter&qid=1696892018&sr=8-230\n",
            "https://www.amazon.com/Electric-Scooter-EFGBIKE-Scoocter-Suspensions/dp/B0CDPNC4K6/ref=sr_1_231?keywords=electric+scooter&qid=1696892018&sr=8-231\n",
            "https://www.amazon.com/Electric-Convenient-Powerful-Strength-Skateboard/dp/B09MWQF54T/ref=sr_1_232?keywords=electric+scooter&qid=1696892018&sr=8-232\n",
            "https://www.amazon.com/ATK-Adults-Electric-Scooter-Waterproof/dp/B0C6KKPVGG/ref=sr_1_233?keywords=electric+scooter&qid=1696892018&sr=8-233\n",
            "https://www.amazon.com/Hover-1-Electric-Folding-Scooter-Suspension/dp/B0B75VXFFW/ref=sr_1_234?keywords=electric+scooter&qid=1696892018&sr=8-234\n",
            "https://www.amazon.com/LEQISMART-Electric-Pneumatic-Foldable-Intelligent/dp/B09SG58B3F/ref=sr_1_235?keywords=electric+scooter&qid=1696892018&sr=8-235\n",
            "https://www.amazon.com/Atomi-Electric-Turbo-1-Removable-Scooter/dp/B0CBXBS93C/ref=sr_1_236?keywords=electric+scooter&qid=1696892018&sr=8-236\n",
            "https://www.amazon.com/Electric-Scooter-Professional-OBARTER-Condition/dp/B0BX4FZFQW/ref=sr_1_237?keywords=electric+scooter&qid=1696892018&sr=8-237\n",
            "https://www.amazon.com/HOSYSA-Electric-Foldable-Off-Road-Removable/dp/B09CMRK3HG/ref=sr_1_238?keywords=electric+scooter&qid=1696892018&sr=8-238\n",
            "https://www.amazon.com/LEQISMART-Electric-Pneumatic-Foldable-Commuting/dp/B0B2JM83HT/ref=sr_1_239?keywords=electric+scooter&qid=1696892018&sr=8-239\n",
            "https://www.amazon.com/Mogorle-Electric-Scooter-Scooters-Commuting/dp/B0CHMNKZ5Q/ref=sr_1_240?keywords=electric+scooter&qid=1696892018&sr=8-240\n",
            "https://www.amazon.com/Electric-Colorful-Adjustable-Foldable-Scooter/dp/B0C53B3RXP/ref=sr_1_241?keywords=electric+scooter&qid=1696892022&sr=8-241\n",
            "https://www.amazon.com/Gobazaar-Electric-Scooter-Kids-Scooter/dp/B09MJ4D8K1/ref=sr_1_242?keywords=electric+scooter&qid=1696892022&sr=8-242\n",
            "https://www.amazon.com/TOMOLOO-Electric-Scooter-Adults-Commuting/dp/B09JFMSR55/ref=sr_1_243?keywords=electric+scooter&qid=1696892022&sr=8-243\n",
            "https://www.amazon.com/Electric-Scooter-Off-Road-Absorption-Commuter/dp/B0C6PL68BK/ref=sr_1_244?keywords=electric+scooter&qid=1696892022&sr=8-244\n",
            "https://www.amazon.com/Electric-Scooter-Folding-Commuting-Scooter/dp/B0C3KY4X7W/ref=sr_1_245?keywords=electric+scooter&qid=1696892022&sr=8-245\n",
            "https://www.amazon.com/Razor-Prime-III-Electric-Scooter/dp/B084SD4G7V/ref=sr_1_246?keywords=electric+scooter&qid=1696892022&sr=8-246\n",
            "https://www.amazon.com/Gyroor-Electric-Scooter-Colorful-Adjustable/dp/B09M6TSM3C/ref=sr_1_247?keywords=electric+scooter&qid=1696892022&sr=8-247\n",
            "https://www.amazon.com/JOYOR-Y7-S-Electric-Scooter-Adults-Black/dp/B09ZX9ZGLZ/ref=sr_1_248?keywords=electric+scooter&qid=1696892022&sr=8-248\n",
            "https://www.amazon.com/isinwheel-S9Pro-Electric-Scooter-Miles/dp/B0CJJ8LMQK/ref=sr_1_249?keywords=electric+scooter&qid=1696892022&sr=8-249\n",
            "https://www.amazon.com/Razor-Electric-Scooters-Scooter-13113214/dp/B09ZVM8BZ3/ref=sr_1_250?keywords=electric+scooter&qid=1696892022&sr=8-250\n",
            "https://www.amazon.com/Gyroor-Electric-Scooter-Colorful-Adjustable/dp/B09M6QYH8D/ref=sr_1_251?keywords=electric+scooter&qid=1696892022&sr=8-251\n",
            "https://www.amazon.com/iENYRID-Electric-Motorized-Off-Road-Scooter/dp/B0BG8CXPXC/ref=sr_1_252?keywords=electric+scooter&qid=1696892022&sr=8-252\n",
            "https://www.amazon.com/Inmotion-Electric-Suspensions-Pneumatic-Commuting/dp/B09TDTGLR8/ref=sr_1_253?keywords=electric+scooter&qid=1696892022&sr=8-253\n",
            "https://www.amazon.com/AJOOSOS-Electric-X60-High-Power-Capacity/dp/B09S5TDBGX/ref=sr_1_254?keywords=electric+scooter&qid=1696892022&sr=8-254\n",
            "https://www.amazon.com/Electric-EFGTEK-Foldable-Scooter-Despatchable/dp/B0CFG2PHFF/ref=sr_1_255?keywords=electric+scooter&qid=1696892022&sr=8-255\n",
            "https://www.amazon.com/Elecorange-Electric-Adjustable-Handlebar-Lightweight/dp/B09X3413R8/ref=sr_1_256?keywords=electric+scooter&qid=1696892022&sr=8-256\n",
            "https://www.amazon.com/Electric-Scooter-Long-Range-Scooter-Commuter/dp/B0CBNRXKPR/ref=sr_1_257?keywords=electric+scooter&qid=1696892022&sr=8-257\n",
            "https://www.amazon.com/Hover-1-Folding-Electric-Scooter-Lights/dp/B08H8TLSZG/ref=sr_1_258?keywords=electric+scooter&qid=1696892022&sr=8-258\n",
            "https://www.amazon.com/Swagtron-Electric-Kick-Start-Must-Have-CottonCandy/dp/B08G9DJ9WS/ref=sr_1_259?keywords=electric+scooter&qid=1696892022&sr=8-259\n",
            "https://www.amazon.com/Razor-Miniature-Euro-Style-Electric-Scooter/dp/B000I44P90/ref=sr_1_260?keywords=electric+scooter&qid=1696892022&sr=8-260\n",
            "https://www.amazon.com/ATK-Adults-Electric-Scooter-Waterproof/dp/B0C6KKPVGG/ref=sr_1_261?keywords=electric+scooter&qid=1696892022&sr=8-261\n",
            "https://www.amazon.com/Jetson-Folding-Adult-Electric-Scooter/dp/B088FXWHXP/ref=sr_1_262?keywords=electric+scooter&qid=1696892022&sr=8-262\n",
            "https://www.amazon.com/Hover-1-Electric-Folding-Scooter-Suspension/dp/B0B75VXFFW/ref=sr_1_263?keywords=electric+scooter&qid=1696892022&sr=8-263\n",
            "https://www.amazon.com/Razor-EcoSmart-SUP-Electric-Scooter/dp/B085DHDHMV/ref=sr_1_264?keywords=electric+scooter&qid=1696892022&sr=8-264\n",
            "https://www.amazon.com/RCB-Absorption-Honeycomb-Waterproof-Certified/dp/B09R1NN12Q/ref=sr_1_265?keywords=electric+scooter&qid=1696892022&sr=8-265\n",
            "https://www.amazon.com/Scooter-Kids-Ages-6-12-All-Aluminum/dp/B0B568DT63/ref=sr_1_266?keywords=electric+scooter&qid=1696892022&sr=8-266\n",
            "https://www.amazon.com/LEQISMART-Electric-Pneumatic-Foldable-Commuting/dp/B0B2JM83HT/ref=sr_1_267?keywords=electric+scooter&qid=1696892022&sr=8-267\n",
            "https://www.amazon.com/Mobility-Electric-Scooters-Collapsible-Extended/dp/B0C76TPM2T/ref=sr_1_268?keywords=electric+scooter&qid=1696892022&sr=8-268\n",
            "No table found\n",
            "https://www.amazon.com/Electric-Escooter-capcaity-Foldable-Scooters/dp/B0CGVCBPY5/ref=sr_1_269?keywords=electric+scooter&qid=1696892022&sr=8-269\n",
            "https://www.amazon.com/LEQISMART-Electric-Scooter-10-Pneumatic-18-6Miles/dp/B0C3LTV9KH/ref=sr_1_270?keywords=electric+scooter&qid=1696892022&sr=8-270\n",
            "https://www.amazon.com/Electric-Foldable-Off-Road-Commuting-Certified/dp/B0CHJSHBR6/ref=sr_1_271?keywords=electric+scooter&qid=1696892022&sr=8-271\n",
            "https://www.amazon.com/RCB-Electric-Colorful-Adjustable-Lightweight/dp/B0BBQTRLXX/ref=sr_1_272?keywords=electric+scooter&qid=1696892022&sr=8-272\n",
            "https://www.amazon.com/OKAI-NEON-Electric-Scooter-Adults/dp/B09MD717PF/ref=sr_1_273?keywords=electric+scooter&qid=1696892022&sr=8-273\n",
            "https://www.amazon.com/Redmon-Fitness-Exercise-Equipment-Kids/dp/B0013ELJL6/ref=sr_1_274?keywords=electric+scooter&qid=1696892022&sr=8-274\n",
            "https://www.amazon.com/CUNFON-Electric-Scooter-Adults-Suspension/dp/B0CJ95SMRT/ref=sr_1_275?keywords=electric+scooter&qid=1696892022&sr=8-275\n",
            "https://www.amazon.com/Hiboy-VE1-PRO-Electric-Scooter/dp/B09P17F4C1/ref=sr_1_276?keywords=electric+scooter&qid=1696892022&sr=8-276\n",
            "https://www.amazon.com/Electric-Powerful-Foldable-Commuting-Absorption/dp/B0C6T9HJKP/ref=sr_1_277?keywords=electric+scooter&qid=1696892022&sr=8-277\n",
            "https://www.amazon.com/Ridingtimes-Electric-Removable-Tubeless-Commuter/dp/B0C1MR7L2H/ref=sr_1_278?keywords=electric+scooter&qid=1696892022&sr=8-278\n",
            "https://www.amazon.com/OKAI-Electric-Scooter-15-5MPH-Modern/dp/B09ZP81ZNW/ref=sr_1_279?keywords=electric+scooter&qid=1696892022&sr=8-279\n",
            "https://www.amazon.com/Electric-Scooter-EFGTEK-Foldable-Despatchable/dp/B0CFYKFY57/ref=sr_1_280?keywords=electric+scooter&qid=1696892022&sr=8-280\n",
            "https://www.amazon.com/Electric-Scooter-Headlight-Foldable-Commuter/dp/B09VTHFXKF/ref=sr_1_281?keywords=electric+scooter&qid=1696892022&sr=8-281\n",
            "https://www.amazon.com/Hover-1-Foldable-Electric-Brushless-Honeycomb/dp/B0BP73XNHP/ref=sr_1_282?keywords=electric+scooter&qid=1696892022&sr=8-282\n",
            "https://www.amazon.com/Electric-Certifled-Commuting-Absorption-Connected/dp/B09H2SBNGK/ref=sr_1_283?keywords=electric+scooter&qid=1696892022&sr=8-283\n",
            "https://www.amazon.com/LEQISMART-Electric-Pneumatic-Foldable-Intelligent/dp/B09SG58B3F/ref=sr_1_284?keywords=electric+scooter&qid=1696892022&sr=8-284\n",
            "https://www.amazon.com/MoNiBloom-Scooter-Folding-Electric-Commuting/dp/B0C55JQP9J/ref=sr_1_285?keywords=electric+scooter&qid=1696892022&sr=8-285\n",
            "https://www.amazon.com/Razor-Kick-Scooter-Blue-FFP/dp/B01EN6LTAQ/ref=sr_1_286?keywords=electric+scooter&qid=1696892022&sr=8-286\n",
            "https://www.amazon.com/Adults-Electric-Scooter-velCying-SuperScooter/dp/B0C1415WSG/ref=sr_1_287?keywords=electric+scooter&qid=1696892022&sr=8-287\n",
            "https://www.amazon.com/60V38AhTifgalop-Electric-Scooter-Tubeless-Commuting/dp/B0C2Y1D9L8/ref=sr_1_288?keywords=electric+scooter&qid=1696892022&sr=8-288\n",
            "https://www.amazon.com/Toddlers-Adjustable-Extra-Wide-Flashing-Children/dp/B08QCCN2MW/ref=sr_1_289?keywords=electric+scooter&qid=1696892028&sr=8-289\n",
            "https://www.amazon.com/AVPLUS-Electric-Scooter-Folding-Commuter/dp/B0BGGNMK4T/ref=sr_1_290?keywords=electric+scooter&qid=1696892028&sr=8-290\n",
            "https://www.amazon.com/Razor-E300-Electric-Scooter-White/dp/B083G8KWCY/ref=sr_1_291?keywords=electric+scooter&qid=1696892028&sr=8-291\n",
            "https://www.amazon.com/Razor-Motorized-Rechargeable-Electric-Scooter/dp/B07H8RJQTJ/ref=sr_1_292?keywords=electric+scooter&qid=1696892028&sr=8-292\n",
            "https://www.amazon.com/Gyroor-Electric-Scooter-Colorful-Adjustable/dp/B09M6TSM3C/ref=sr_1_293?keywords=electric+scooter&qid=1696892028&sr=8-293\n",
            "https://www.amazon.com/Electric-F2-Foldable-Commuting-Certified/dp/B0CG5S676V/ref=sr_1_294?keywords=electric+scooter&qid=1696892028&sr=8-294\n",
            "https://www.amazon.com/Electric-Foldable-Suspension-Commuter-Escooter/dp/B0BQR7XQ1X/ref=sr_1_295?keywords=electric+scooter&qid=1696892028&sr=8-295\n",
            "https://www.amazon.com/ZonDoo-ZU08-Electric-Suspension-Teenagers/dp/B0C33N43QK/ref=sr_1_296?keywords=electric+scooter&qid=1696892028&sr=8-296\n",
            "https://www.amazon.com/RCB-Absorption-Honeycomb-Waterproof-Certified/dp/B09R1NN12Q/ref=sr_1_297?keywords=electric+scooter&qid=1696892028&sr=8-297\n",
            "https://www.amazon.com/Folding-Mobility-Scooter-Seniors-Electric/dp/B09TW35CTM/ref=sr_1_298?keywords=electric+scooter&qid=1696892028&sr=8-298\n",
            "No table found\n",
            "https://www.amazon.com/Razor-Prime-III-Electric-Scooter/dp/B084SD4G7V/ref=sr_1_299?keywords=electric+scooter&qid=1696892028&sr=8-299\n",
            "https://www.amazon.com/Razor-Motorized-Electric-Scooter-Silver/dp/B003D5WXL8/ref=sr_1_300?keywords=electric+scooter&qid=1696892028&sr=8-300\n",
            "https://www.amazon.com/MoNiBloom-Scooter-Folding-Electric-Commuting/dp/B0C55JQP9J/ref=sr_1_301?keywords=electric+scooter&qid=1696892028&sr=8-301\n",
            "https://www.amazon.com/Scooter-Kids-Ages-6-12-All-Aluminum/dp/B0B568DT63/ref=sr_1_302?keywords=electric+scooter&qid=1696892028&sr=8-302\n",
            "https://www.amazon.com/Hiboy-Electric-Scooter-Pneumatic-Commute/dp/B08LH13TWL/ref=sr_1_303?keywords=electric+scooter&qid=1696892028&sr=8-303\n",
            "https://www.amazon.com/RCB-Electric-Colorful-Adjustable-Lightweight/dp/B0BBQTRLXX/ref=sr_1_304?keywords=electric+scooter&qid=1696892028&sr=8-304\n",
            "https://www.amazon.com/Electric-Scooter-Accessory-Silicone-Antiskid/dp/B0BR414RT2/ref=sr_1_305?keywords=electric+scooter&qid=1696892028&sr=8-305\n",
            "https://www.amazon.com/LINGTENG-Childrens-Electric-Suitable-Adjustable/dp/B0CBK5T6R1/ref=sr_1_306?keywords=electric+scooter&qid=1696892028&sr=8-306\n"
          ]
        }
      ],
      "source": [
        "feature_dict = {}\n",
        "\n",
        "for i in range(len(product_link_df)):\n",
        "    print(product_link_df.iloc[i][0])\n",
        "    feature_dict[i] = {}\n",
        "    feature_dict[i].update(get_product_features(product_link_df.iloc[i][0]))\n",
        "\n",
        "feature_frame = pd.DataFrame(feature_dict)\n",
        "feature_frame = feature_frame.transpose()\n",
        "feature_frame.to_csv(\"Electric_Scooter_Features.csv\", mode='w', header=True, index=True)\n",
        "\n",
        "#product_link_df.to_csv(\"Electric_Scooter_URLS.csv\", mode='w', header=True, index=False)"
      ]
    },
    {
      "cell_type": "code",
      "execution_count": null,
      "metadata": {
        "id": "mdRaxczdkQ7K"
      },
      "outputs": [],
      "source": [
        "import time\n",
        "import random\n",
        "import pandas as pd\n",
        "import os\n",
        "\n",
        "product_link_df = pd.read_csv(\"Electric_Scooter_URLS.csv\")"
      ]
    },
    {
      "cell_type": "code",
      "execution_count": null,
      "metadata": {
        "colab": {
          "base_uri": "https://localhost:8080/"
        },
        "id": "XJ_x3mv6Rfds",
        "outputId": "123c2a21-4d16-412f-d6bc-aa9c4a58cc7a"
      },
      "outputs": [
        {
          "name": "stdout",
          "output_type": "stream",
          "text": [
            "https://www.amazon.com/MAXTRA-Upgraded-Electric-Adjustable-Handlebar/dp/B08H7XM3W4/ref=sr_1_289?keywords=electric+scooter&qid=1696567146&sr=8-289 running now\n",
            "all_reviews_link is : https://www.amazon.com/MAXTRA-Upgraded-Electric-Adjustable-Handlebar/product-reviews/B08H7XM3W4/ref=cm_cr_dp_d_show_all_btm?ie=UTF8&reviewerType=all_reviews\n",
            "\n",
            "\n",
            "Fetching All Product Reviews Now\n",
            "\n",
            "\n",
            "https://www.amazon.com/MAXTRA-Upgraded-Electric-Adjustable-Handlebar/product-reviews/B08H7XM3W4/ref=cm_cr_dp_d_show_all_btm?ie=UTF8&reviewerType=all_reviews running now\n"
          ]
        },
        {
          "name": "stderr",
          "output_type": "stream",
          "text": [
            "<ipython-input-8-f86477106e13>:100: FutureWarning: The frame.append method is deprecated and will be removed from pandas in a future version. Use pandas.concat instead.\n",
            "  full_product_comment_df = full_product_comment_df.append(temp_product_comment_df)\n"
          ]
        },
        {
          "name": "stdout",
          "output_type": "stream",
          "text": [
            "https://www.amazon.com/MAXTRA-Upgraded-Electric-Adjustable-Handlebar/product-reviews/B08H7XM3W4/ref=cm_cr_arp_d_paging_btm_2?ie=UTF8&pageNumber=2&reviewerType=all_reviews running now\n"
          ]
        },
        {
          "name": "stderr",
          "output_type": "stream",
          "text": [
            "<ipython-input-8-f86477106e13>:100: FutureWarning: The frame.append method is deprecated and will be removed from pandas in a future version. Use pandas.concat instead.\n",
            "  full_product_comment_df = full_product_comment_df.append(temp_product_comment_df)\n"
          ]
        },
        {
          "name": "stdout",
          "output_type": "stream",
          "text": [
            "https://www.amazon.com/MAXTRA-Upgraded-Electric-Adjustable-Handlebar/product-reviews/B08H7XM3W4/ref=cm_cr_arp_d_paging_btm_3?ie=UTF8&pageNumber=3&reviewerType=all_reviews running now\n"
          ]
        },
        {
          "name": "stderr",
          "output_type": "stream",
          "text": [
            "<ipython-input-8-f86477106e13>:100: FutureWarning: The frame.append method is deprecated and will be removed from pandas in a future version. Use pandas.concat instead.\n",
            "  full_product_comment_df = full_product_comment_df.append(temp_product_comment_df)\n"
          ]
        },
        {
          "name": "stdout",
          "output_type": "stream",
          "text": [
            "https://www.amazon.com/MAXTRA-Upgraded-Electric-Adjustable-Handlebar/product-reviews/B08H7XM3W4/ref=cm_cr_arp_d_paging_btm_4?ie=UTF8&pageNumber=4&reviewerType=all_reviews running now\n"
          ]
        },
        {
          "name": "stderr",
          "output_type": "stream",
          "text": [
            "<ipython-input-8-f86477106e13>:100: FutureWarning: The frame.append method is deprecated and will be removed from pandas in a future version. Use pandas.concat instead.\n",
            "  full_product_comment_df = full_product_comment_df.append(temp_product_comment_df)\n"
          ]
        },
        {
          "name": "stdout",
          "output_type": "stream",
          "text": [
            "https://www.amazon.com/MAXTRA-Upgraded-Electric-Adjustable-Handlebar/product-reviews/B08H7XM3W4/ref=cm_cr_arp_d_paging_btm_5?ie=UTF8&pageNumber=5&reviewerType=all_reviews running now\n"
          ]
        },
        {
          "name": "stderr",
          "output_type": "stream",
          "text": [
            "<ipython-input-8-f86477106e13>:100: FutureWarning: The frame.append method is deprecated and will be removed from pandas in a future version. Use pandas.concat instead.\n",
            "  full_product_comment_df = full_product_comment_df.append(temp_product_comment_df)\n"
          ]
        },
        {
          "name": "stdout",
          "output_type": "stream",
          "text": [
            "https://www.amazon.com/MAXTRA-Upgraded-Electric-Adjustable-Handlebar/product-reviews/B08H7XM3W4/ref=cm_cr_arp_d_paging_btm_6?ie=UTF8&pageNumber=6&reviewerType=all_reviews running now\n"
          ]
        },
        {
          "name": "stderr",
          "output_type": "stream",
          "text": [
            "<ipython-input-8-f86477106e13>:100: FutureWarning: The frame.append method is deprecated and will be removed from pandas in a future version. Use pandas.concat instead.\n",
            "  full_product_comment_df = full_product_comment_df.append(temp_product_comment_df)\n"
          ]
        },
        {
          "name": "stdout",
          "output_type": "stream",
          "text": [
            "https://www.amazon.com/ZSNAKE-Electric-Scooter-Off-Road-Commuting/dp/B0CC5CL5D9/ref=sr_1_290?keywords=electric+scooter&qid=1696567146&sr=8-290 running now\n",
            "all_reviews_link is : https://www.amazon.com/ZSNAKE-Electric-Scooter-Off-Road-Commuting/product-reviews/B0CC5CL5D9/ref=cm_cr_dp_d_show_all_btm?ie=UTF8&reviewerType=all_reviews\n",
            "\n",
            "\n",
            "Fetching All Product Reviews Now\n",
            "\n",
            "\n",
            "https://www.amazon.com/ZSNAKE-Electric-Scooter-Off-Road-Commuting/product-reviews/B0CC5CL5D9/ref=cm_cr_dp_d_show_all_btm?ie=UTF8&reviewerType=all_reviews running now\n"
          ]
        },
        {
          "name": "stderr",
          "output_type": "stream",
          "text": [
            "<ipython-input-8-f86477106e13>:100: FutureWarning: The frame.append method is deprecated and will be removed from pandas in a future version. Use pandas.concat instead.\n",
            "  full_product_comment_df = full_product_comment_df.append(temp_product_comment_df)\n"
          ]
        },
        {
          "name": "stdout",
          "output_type": "stream",
          "text": [
            "https://www.amazon.com/Electric-Scooter-Folding-Commuter-Adults/dp/B0BHKJWJ4C/ref=sr_1_291?keywords=electric+scooter&qid=1696567146&sr=8-291 running now\n",
            "all_reviews_link is : https://www.amazon.com/Electric-Scooter-Folding-Commuter-Adults/product-reviews/B0BHKJWJ4C/ref=cm_cr_dp_d_show_all_btm?ie=UTF8&reviewerType=all_reviews\n",
            "\n",
            "\n",
            "Fetching All Product Reviews Now\n",
            "\n",
            "\n",
            "https://www.amazon.com/Electric-Scooter-Folding-Commuter-Adults/product-reviews/B0BHKJWJ4C/ref=cm_cr_dp_d_show_all_btm?ie=UTF8&reviewerType=all_reviews running now\n"
          ]
        },
        {
          "name": "stderr",
          "output_type": "stream",
          "text": [
            "<ipython-input-8-f86477106e13>:100: FutureWarning: The frame.append method is deprecated and will be removed from pandas in a future version. Use pandas.concat instead.\n",
            "  full_product_comment_df = full_product_comment_df.append(temp_product_comment_df)\n"
          ]
        },
        {
          "name": "stdout",
          "output_type": "stream",
          "text": [
            "https://www.amazon.com/Electric-Scooter-Folding-Commuter-Adults/product-reviews/B0BHKJWJ4C/ref=cm_cr_arp_d_paging_btm_2?ie=UTF8&pageNumber=2&reviewerType=all_reviews running now\n"
          ]
        },
        {
          "name": "stderr",
          "output_type": "stream",
          "text": [
            "<ipython-input-8-f86477106e13>:100: FutureWarning: The frame.append method is deprecated and will be removed from pandas in a future version. Use pandas.concat instead.\n",
            "  full_product_comment_df = full_product_comment_df.append(temp_product_comment_df)\n"
          ]
        },
        {
          "name": "stdout",
          "output_type": "stream",
          "text": [
            "https://www.amazon.com/Electric-Scooter-Folding-Commuter-Adults/product-reviews/B0BHKJWJ4C/ref=cm_cr_arp_d_paging_btm_3?ie=UTF8&pageNumber=3&reviewerType=all_reviews running now\n"
          ]
        },
        {
          "name": "stderr",
          "output_type": "stream",
          "text": [
            "<ipython-input-8-f86477106e13>:100: FutureWarning: The frame.append method is deprecated and will be removed from pandas in a future version. Use pandas.concat instead.\n",
            "  full_product_comment_df = full_product_comment_df.append(temp_product_comment_df)\n"
          ]
        },
        {
          "name": "stdout",
          "output_type": "stream",
          "text": [
            "https://www.amazon.com/Razor-C25-SLA-Electric-Scooter/dp/B092BMWK68/ref=sr_1_292?keywords=electric+scooter&qid=1696567146&sr=8-292 running now\n",
            "all_reviews_link is : https://www.amazon.com/Razor-C25-SLA-Electric-Scooter/product-reviews/B092BMWK68/ref=cm_cr_dp_d_show_all_btm?ie=UTF8&reviewerType=all_reviews\n",
            "\n",
            "\n",
            "Fetching All Product Reviews Now\n",
            "\n",
            "\n",
            "https://www.amazon.com/Razor-C25-SLA-Electric-Scooter/product-reviews/B092BMWK68/ref=cm_cr_dp_d_show_all_btm?ie=UTF8&reviewerType=all_reviews running now\n"
          ]
        },
        {
          "name": "stderr",
          "output_type": "stream",
          "text": [
            "<ipython-input-8-f86477106e13>:100: FutureWarning: The frame.append method is deprecated and will be removed from pandas in a future version. Use pandas.concat instead.\n",
            "  full_product_comment_df = full_product_comment_df.append(temp_product_comment_df)\n"
          ]
        },
        {
          "name": "stdout",
          "output_type": "stream",
          "text": [
            "https://www.amazon.com/Electric-Scooter-Terrian-Braking-Absorption/dp/B0BN5N543S/ref=sr_1_293?keywords=electric+scooter&qid=1696567146&sr=8-293 running now\n",
            "all_reviews_link is : https://www.amazon.com/Electric-Scooter-Terrian-Braking-Absorption/product-reviews/B0BN5N543S/ref=cm_cr_dp_d_show_all_btm?ie=UTF8&reviewerType=all_reviews\n",
            "\n",
            "\n",
            "Fetching All Product Reviews Now\n",
            "\n",
            "\n",
            "https://www.amazon.com/Electric-Scooter-Terrian-Braking-Absorption/product-reviews/B0BN5N543S/ref=cm_cr_dp_d_show_all_btm?ie=UTF8&reviewerType=all_reviews running now\n"
          ]
        },
        {
          "name": "stderr",
          "output_type": "stream",
          "text": [
            "<ipython-input-8-f86477106e13>:100: FutureWarning: The frame.append method is deprecated and will be removed from pandas in a future version. Use pandas.concat instead.\n",
            "  full_product_comment_df = full_product_comment_df.append(temp_product_comment_df)\n"
          ]
        },
        {
          "name": "stdout",
          "output_type": "stream",
          "text": [
            "https://www.amazon.com/Segway-Electric-Scooter-Self-Sealing-Commuting/dp/B0BK8LXHPF/ref=sr_1_294?keywords=electric+scooter&qid=1696567146&sr=8-294 running now\n",
            "all_reviews_link is : https://www.amazon.com/Segway-Electric-Scooter-Self-Sealing-Commuting/product-reviews/B0BK8LXHPF/ref=cm_cr_dp_d_show_all_btm?ie=UTF8&reviewerType=all_reviews\n",
            "\n",
            "\n",
            "Fetching All Product Reviews Now\n",
            "\n",
            "\n",
            "https://www.amazon.com/Segway-Electric-Scooter-Self-Sealing-Commuting/product-reviews/B0BK8LXHPF/ref=cm_cr_dp_d_show_all_btm?ie=UTF8&reviewerType=all_reviews running now\n"
          ]
        },
        {
          "name": "stderr",
          "output_type": "stream",
          "text": [
            "<ipython-input-8-f86477106e13>:100: FutureWarning: The frame.append method is deprecated and will be removed from pandas in a future version. Use pandas.concat instead.\n",
            "  full_product_comment_df = full_product_comment_df.append(temp_product_comment_df)\n"
          ]
        },
        {
          "name": "stdout",
          "output_type": "stream",
          "text": [
            "https://www.amazon.com/Segway-Electric-Scooter-Self-Sealing-Commuting/product-reviews/B0BK8LXHPF/ref=cm_cr_arp_d_paging_btm_2?ie=UTF8&pageNumber=2&reviewerType=all_reviews running now\n"
          ]
        },
        {
          "name": "stderr",
          "output_type": "stream",
          "text": [
            "<ipython-input-8-f86477106e13>:100: FutureWarning: The frame.append method is deprecated and will be removed from pandas in a future version. Use pandas.concat instead.\n",
            "  full_product_comment_df = full_product_comment_df.append(temp_product_comment_df)\n"
          ]
        },
        {
          "name": "stdout",
          "output_type": "stream",
          "text": [
            "https://www.amazon.com/Segway-Electric-Scooter-Self-Sealing-Commuting/product-reviews/B0BK8LXHPF/ref=cm_cr_arp_d_paging_btm_3?ie=UTF8&pageNumber=3&reviewerType=all_reviews running now\n"
          ]
        },
        {
          "name": "stderr",
          "output_type": "stream",
          "text": [
            "<ipython-input-8-f86477106e13>:100: FutureWarning: The frame.append method is deprecated and will be removed from pandas in a future version. Use pandas.concat instead.\n",
            "  full_product_comment_df = full_product_comment_df.append(temp_product_comment_df)\n"
          ]
        },
        {
          "name": "stdout",
          "output_type": "stream",
          "text": [
            "https://www.amazon.com/Populo-Electric-Scooter-Pneumatic-Commuting/dp/B07VXPDTL8/ref=sr_1_295?keywords=electric+scooter&qid=1696567146&sr=8-295 running now\n",
            "all_reviews_link is : https://www.amazon.com/Populo-Electric-Scooter-Pneumatic-Commuting/product-reviews/B07VXPDTL8/ref=cm_cr_dp_d_show_all_btm?ie=UTF8&reviewerType=all_reviews\n",
            "\n",
            "\n",
            "Fetching All Product Reviews Now\n",
            "\n",
            "\n",
            "https://www.amazon.com/Populo-Electric-Scooter-Pneumatic-Commuting/product-reviews/B07VXPDTL8/ref=cm_cr_dp_d_show_all_btm?ie=UTF8&reviewerType=all_reviews running now\n"
          ]
        },
        {
          "name": "stderr",
          "output_type": "stream",
          "text": [
            "<ipython-input-8-f86477106e13>:100: FutureWarning: The frame.append method is deprecated and will be removed from pandas in a future version. Use pandas.concat instead.\n",
            "  full_product_comment_df = full_product_comment_df.append(temp_product_comment_df)\n"
          ]
        },
        {
          "name": "stdout",
          "output_type": "stream",
          "text": [
            "https://www.amazon.com/Populo-Electric-Scooter-Pneumatic-Commuting/product-reviews/B07VXPDTL8/ref=cm_cr_arp_d_paging_btm_2?ie=UTF8&pageNumber=2&reviewerType=all_reviews running now\n"
          ]
        },
        {
          "name": "stderr",
          "output_type": "stream",
          "text": [
            "<ipython-input-8-f86477106e13>:100: FutureWarning: The frame.append method is deprecated and will be removed from pandas in a future version. Use pandas.concat instead.\n",
            "  full_product_comment_df = full_product_comment_df.append(temp_product_comment_df)\n"
          ]
        },
        {
          "name": "stdout",
          "output_type": "stream",
          "text": [
            "https://www.amazon.com/Populo-Electric-Scooter-Pneumatic-Commuting/product-reviews/B07VXPDTL8/ref=cm_cr_arp_d_paging_btm_3?ie=UTF8&pageNumber=3&reviewerType=all_reviews running now\n"
          ]
        },
        {
          "name": "stderr",
          "output_type": "stream",
          "text": [
            "<ipython-input-8-f86477106e13>:100: FutureWarning: The frame.append method is deprecated and will be removed from pandas in a future version. Use pandas.concat instead.\n",
            "  full_product_comment_df = full_product_comment_df.append(temp_product_comment_df)\n"
          ]
        },
        {
          "name": "stdout",
          "output_type": "stream",
          "text": [
            "https://www.amazon.com/Populo-Electric-Scooter-Pneumatic-Commuting/product-reviews/B07VXPDTL8/ref=cm_cr_arp_d_paging_btm_4?ie=UTF8&pageNumber=4&reviewerType=all_reviews running now\n"
          ]
        },
        {
          "name": "stderr",
          "output_type": "stream",
          "text": [
            "<ipython-input-8-f86477106e13>:100: FutureWarning: The frame.append method is deprecated and will be removed from pandas in a future version. Use pandas.concat instead.\n",
            "  full_product_comment_df = full_product_comment_df.append(temp_product_comment_df)\n"
          ]
        },
        {
          "name": "stdout",
          "output_type": "stream",
          "text": [
            "https://www.amazon.com/Populo-Electric-Scooter-Pneumatic-Commuting/product-reviews/B07VXPDTL8/ref=cm_cr_arp_d_paging_btm_5?ie=UTF8&pageNumber=5&reviewerType=all_reviews running now\n"
          ]
        },
        {
          "name": "stderr",
          "output_type": "stream",
          "text": [
            "<ipython-input-8-f86477106e13>:100: FutureWarning: The frame.append method is deprecated and will be removed from pandas in a future version. Use pandas.concat instead.\n",
            "  full_product_comment_df = full_product_comment_df.append(temp_product_comment_df)\n"
          ]
        },
        {
          "name": "stdout",
          "output_type": "stream",
          "text": [
            "https://www.amazon.com/Populo-Electric-Scooter-Pneumatic-Commuting/product-reviews/B07VXPDTL8/ref=cm_cr_arp_d_paging_btm_6?ie=UTF8&pageNumber=6&reviewerType=all_reviews running now\n"
          ]
        },
        {
          "name": "stderr",
          "output_type": "stream",
          "text": [
            "<ipython-input-8-f86477106e13>:100: FutureWarning: The frame.append method is deprecated and will be removed from pandas in a future version. Use pandas.concat instead.\n",
            "  full_product_comment_df = full_product_comment_df.append(temp_product_comment_df)\n"
          ]
        },
        {
          "name": "stdout",
          "output_type": "stream",
          "text": [
            "https://www.amazon.com/Populo-Electric-Scooter-Pneumatic-Commuting/product-reviews/B07VXPDTL8/ref=cm_cr_arp_d_paging_btm_7?ie=UTF8&pageNumber=7&reviewerType=all_reviews running now\n"
          ]
        },
        {
          "name": "stderr",
          "output_type": "stream",
          "text": [
            "<ipython-input-8-f86477106e13>:100: FutureWarning: The frame.append method is deprecated and will be removed from pandas in a future version. Use pandas.concat instead.\n",
            "  full_product_comment_df = full_product_comment_df.append(temp_product_comment_df)\n"
          ]
        },
        {
          "name": "stdout",
          "output_type": "stream",
          "text": [
            "https://www.amazon.com/Populo-Electric-Scooter-Pneumatic-Commuting/product-reviews/B07VXPDTL8/ref=cm_cr_arp_d_paging_btm_8?ie=UTF8&pageNumber=8&reviewerType=all_reviews running now\n"
          ]
        },
        {
          "name": "stderr",
          "output_type": "stream",
          "text": [
            "<ipython-input-8-f86477106e13>:100: FutureWarning: The frame.append method is deprecated and will be removed from pandas in a future version. Use pandas.concat instead.\n",
            "  full_product_comment_df = full_product_comment_df.append(temp_product_comment_df)\n"
          ]
        },
        {
          "name": "stdout",
          "output_type": "stream",
          "text": [
            "https://www.amazon.com/Populo-Electric-Scooter-Pneumatic-Commuting/product-reviews/B07VXPDTL8/ref=cm_cr_arp_d_paging_btm_9?ie=UTF8&pageNumber=9&reviewerType=all_reviews running now\n"
          ]
        },
        {
          "name": "stderr",
          "output_type": "stream",
          "text": [
            "<ipython-input-8-f86477106e13>:100: FutureWarning: The frame.append method is deprecated and will be removed from pandas in a future version. Use pandas.concat instead.\n",
            "  full_product_comment_df = full_product_comment_df.append(temp_product_comment_df)\n"
          ]
        },
        {
          "name": "stdout",
          "output_type": "stream",
          "text": [
            "https://www.amazon.com/Populo-Electric-Scooter-Pneumatic-Commuting/product-reviews/B07VXPDTL8/ref=cm_cr_arp_d_paging_btm_10?ie=UTF8&pageNumber=10&reviewerType=all_reviews running now\n"
          ]
        },
        {
          "name": "stderr",
          "output_type": "stream",
          "text": [
            "<ipython-input-8-f86477106e13>:100: FutureWarning: The frame.append method is deprecated and will be removed from pandas in a future version. Use pandas.concat instead.\n",
            "  full_product_comment_df = full_product_comment_df.append(temp_product_comment_df)\n"
          ]
        },
        {
          "name": "stdout",
          "output_type": "stream",
          "text": [
            "https://www.amazon.com/Swagtron-Electric-Scooter-Extended-Certified/dp/B08GB1VQTW/ref=sr_1_296?keywords=electric+scooter&qid=1696567146&sr=8-296 running now\n",
            "all_reviews_link is : https://www.amazon.com/Swagtron-Electric-Scooter-Extended-Certified/product-reviews/B08GB1VQTW/ref=cm_cr_dp_d_show_all_btm?ie=UTF8&reviewerType=all_reviews\n",
            "\n",
            "\n",
            "Fetching All Product Reviews Now\n",
            "\n",
            "\n",
            "https://www.amazon.com/Swagtron-Electric-Scooter-Extended-Certified/product-reviews/B08GB1VQTW/ref=cm_cr_dp_d_show_all_btm?ie=UTF8&reviewerType=all_reviews running now\n"
          ]
        },
        {
          "name": "stderr",
          "output_type": "stream",
          "text": [
            "<ipython-input-8-f86477106e13>:100: FutureWarning: The frame.append method is deprecated and will be removed from pandas in a future version. Use pandas.concat instead.\n",
            "  full_product_comment_df = full_product_comment_df.append(temp_product_comment_df)\n"
          ]
        },
        {
          "name": "stdout",
          "output_type": "stream",
          "text": [
            "https://www.amazon.com/Swagtron-Electric-Scooter-Extended-Certified/product-reviews/B08GB1VQTW/ref=cm_cr_arp_d_paging_btm_2?ie=UTF8&pageNumber=2&reviewerType=all_reviews running now\n"
          ]
        },
        {
          "name": "stderr",
          "output_type": "stream",
          "text": [
            "<ipython-input-8-f86477106e13>:100: FutureWarning: The frame.append method is deprecated and will be removed from pandas in a future version. Use pandas.concat instead.\n",
            "  full_product_comment_df = full_product_comment_df.append(temp_product_comment_df)\n"
          ]
        },
        {
          "name": "stdout",
          "output_type": "stream",
          "text": [
            "https://www.amazon.com/Swagtron-Electric-Scooter-Extended-Certified/product-reviews/B08GB1VQTW/ref=cm_cr_arp_d_paging_btm_3?ie=UTF8&pageNumber=3&reviewerType=all_reviews running now\n"
          ]
        },
        {
          "name": "stderr",
          "output_type": "stream",
          "text": [
            "<ipython-input-8-f86477106e13>:100: FutureWarning: The frame.append method is deprecated and will be removed from pandas in a future version. Use pandas.concat instead.\n",
            "  full_product_comment_df = full_product_comment_df.append(temp_product_comment_df)\n"
          ]
        },
        {
          "name": "stdout",
          "output_type": "stream",
          "text": [
            "https://www.amazon.com/Swagtron-Electric-Scooter-Extended-Certified/product-reviews/B08GB1VQTW/ref=cm_cr_arp_d_paging_btm_4?ie=UTF8&pageNumber=4&reviewerType=all_reviews running now\n"
          ]
        },
        {
          "name": "stderr",
          "output_type": "stream",
          "text": [
            "<ipython-input-8-f86477106e13>:100: FutureWarning: The frame.append method is deprecated and will be removed from pandas in a future version. Use pandas.concat instead.\n",
            "  full_product_comment_df = full_product_comment_df.append(temp_product_comment_df)\n"
          ]
        },
        {
          "name": "stdout",
          "output_type": "stream",
          "text": [
            "https://www.amazon.com/Swagtron-Electric-Scooter-Extended-Certified/product-reviews/B08GB1VQTW/ref=cm_cr_arp_d_paging_btm_5?ie=UTF8&pageNumber=5&reviewerType=all_reviews running now\n"
          ]
        },
        {
          "name": "stderr",
          "output_type": "stream",
          "text": [
            "<ipython-input-8-f86477106e13>:100: FutureWarning: The frame.append method is deprecated and will be removed from pandas in a future version. Use pandas.concat instead.\n",
            "  full_product_comment_df = full_product_comment_df.append(temp_product_comment_df)\n"
          ]
        },
        {
          "name": "stdout",
          "output_type": "stream",
          "text": [
            "https://www.amazon.com/Electric-Scooter-Professional-OBARTER-Condition/dp/B0BX4FZFQW/ref=sr_1_297?keywords=electric+scooter&qid=1696567146&sr=8-297 running now\n",
            "all_reviews_link is : https://www.amazon.com/Electric-Scooter-Professional-OBARTER-Condition/product-reviews/B0BX4FZFQW/ref=cm_cr_dp_d_show_all_btm?ie=UTF8&reviewerType=all_reviews\n",
            "\n",
            "\n",
            "Fetching All Product Reviews Now\n",
            "\n",
            "\n",
            "https://www.amazon.com/Electric-Scooter-Professional-OBARTER-Condition/product-reviews/B0BX4FZFQW/ref=cm_cr_dp_d_show_all_btm?ie=UTF8&reviewerType=all_reviews running now\n"
          ]
        },
        {
          "name": "stderr",
          "output_type": "stream",
          "text": [
            "<ipython-input-8-f86477106e13>:100: FutureWarning: The frame.append method is deprecated and will be removed from pandas in a future version. Use pandas.concat instead.\n",
            "  full_product_comment_df = full_product_comment_df.append(temp_product_comment_df)\n"
          ]
        },
        {
          "name": "stdout",
          "output_type": "stream",
          "text": [
            "https://www.amazon.com/Electric-Scooter-Doulve-Updated-40Miles/dp/B0CJBZ4YC8/ref=sr_1_298?keywords=electric+scooter&qid=1696567146&sr=8-298 running now\n",
            "all_reviews_link is : \n",
            "\n",
            "\n",
            "Fetching All Product Reviews Now\n",
            "\n",
            "\n",
            "https://www.amazon.com/Mogorle-Electric-Scooter-Scooters-Commuting/dp/B0CHMNKZ5Q/ref=sr_1_299?keywords=electric+scooter&qid=1696567146&sr=8-299 running now\n",
            "all_reviews_link is : \n",
            "\n",
            "\n",
            "Fetching All Product Reviews Now\n",
            "\n",
            "\n",
            "https://www.amazon.com/Electric-EFGTEK-Foldable-Suspensions-Detachable/dp/B0CF1S3Y7X/ref=sr_1_300?keywords=electric+scooter&qid=1696567146&sr=8-300 running now\n",
            "all_reviews_link is : \n",
            "\n",
            "\n",
            "Fetching All Product Reviews Now\n",
            "\n",
            "\n",
            "https://www.amazon.com/PLAYBIK-Electric-Scooter-Adults-Offroad/dp/B0BXSTH7SG/ref=sr_1_301?keywords=electric+scooter&qid=1696567146&sr=8-301 running now\n",
            "all_reviews_link is : https://www.amazon.com/PLAYBIK-Electric-Scooter-Adults-Offroad/product-reviews/B0BXSTH7SG/ref=cm_cr_dp_d_show_all_btm?ie=UTF8&reviewerType=all_reviews\n",
            "\n",
            "\n",
            "Fetching All Product Reviews Now\n",
            "\n",
            "\n",
            "https://www.amazon.com/PLAYBIK-Electric-Scooter-Adults-Offroad/product-reviews/B0BXSTH7SG/ref=cm_cr_dp_d_show_all_btm?ie=UTF8&reviewerType=all_reviews running now\n"
          ]
        },
        {
          "name": "stderr",
          "output_type": "stream",
          "text": [
            "<ipython-input-8-f86477106e13>:100: FutureWarning: The frame.append method is deprecated and will be removed from pandas in a future version. Use pandas.concat instead.\n",
            "  full_product_comment_df = full_product_comment_df.append(temp_product_comment_df)\n"
          ]
        },
        {
          "name": "stdout",
          "output_type": "stream",
          "text": [
            "https://www.amazon.com/MAXTRA-Electric-Scooter-Battery-Removable/dp/B0BFDNWTND/ref=sr_1_302?keywords=electric+scooter&qid=1696567146&sr=8-302 running now\n",
            "all_reviews_link is : https://www.amazon.com/MAXTRA-Electric-Scooter-Battery-Removable/product-reviews/B0BFDNWTND/ref=cm_cr_dp_d_show_all_btm?ie=UTF8&reviewerType=all_reviews\n",
            "\n",
            "\n",
            "Fetching All Product Reviews Now\n",
            "\n",
            "\n",
            "https://www.amazon.com/MAXTRA-Electric-Scooter-Battery-Removable/product-reviews/B0BFDNWTND/ref=cm_cr_dp_d_show_all_btm?ie=UTF8&reviewerType=all_reviews running now\n"
          ]
        },
        {
          "name": "stderr",
          "output_type": "stream",
          "text": [
            "<ipython-input-8-f86477106e13>:100: FutureWarning: The frame.append method is deprecated and will be removed from pandas in a future version. Use pandas.concat instead.\n",
            "  full_product_comment_df = full_product_comment_df.append(temp_product_comment_df)\n"
          ]
        },
        {
          "name": "stdout",
          "output_type": "stream",
          "text": [
            "https://www.amazon.com/MAXTRA-Electric-Scooter-Battery-Removable/product-reviews/B0BFDNWTND/ref=cm_cr_arp_d_paging_btm_2?ie=UTF8&pageNumber=2&reviewerType=all_reviews running now\n"
          ]
        },
        {
          "name": "stderr",
          "output_type": "stream",
          "text": [
            "<ipython-input-8-f86477106e13>:100: FutureWarning: The frame.append method is deprecated and will be removed from pandas in a future version. Use pandas.concat instead.\n",
            "  full_product_comment_df = full_product_comment_df.append(temp_product_comment_df)\n"
          ]
        },
        {
          "name": "stdout",
          "output_type": "stream",
          "text": [
            "https://www.amazon.com/MAXTRA-Electric-Scooter-Battery-Removable/product-reviews/B0BFDNWTND/ref=cm_cr_arp_d_paging_btm_3?ie=UTF8&pageNumber=3&reviewerType=all_reviews running now\n"
          ]
        },
        {
          "name": "stderr",
          "output_type": "stream",
          "text": [
            "<ipython-input-8-f86477106e13>:100: FutureWarning: The frame.append method is deprecated and will be removed from pandas in a future version. Use pandas.concat instead.\n",
            "  full_product_comment_df = full_product_comment_df.append(temp_product_comment_df)\n"
          ]
        },
        {
          "name": "stdout",
          "output_type": "stream",
          "text": [
            "https://www.amazon.com/MAXTRA-Electric-Scooter-Battery-Removable/product-reviews/B0BFDNWTND/ref=cm_cr_arp_d_paging_btm_4?ie=UTF8&pageNumber=4&reviewerType=all_reviews running now\n"
          ]
        },
        {
          "name": "stderr",
          "output_type": "stream",
          "text": [
            "<ipython-input-8-f86477106e13>:100: FutureWarning: The frame.append method is deprecated and will be removed from pandas in a future version. Use pandas.concat instead.\n",
            "  full_product_comment_df = full_product_comment_df.append(temp_product_comment_df)\n"
          ]
        },
        {
          "name": "stdout",
          "output_type": "stream",
          "text": [
            "https://www.amazon.com/MAXTRA-Electric-Scooter-Battery-Removable/product-reviews/B0BFDNWTND/ref=cm_cr_arp_d_paging_btm_5?ie=UTF8&pageNumber=5&reviewerType=all_reviews running now\n"
          ]
        },
        {
          "name": "stderr",
          "output_type": "stream",
          "text": [
            "<ipython-input-8-f86477106e13>:100: FutureWarning: The frame.append method is deprecated and will be removed from pandas in a future version. Use pandas.concat instead.\n",
            "  full_product_comment_df = full_product_comment_df.append(temp_product_comment_df)\n"
          ]
        },
        {
          "name": "stdout",
          "output_type": "stream",
          "text": [
            "https://www.amazon.com/Electric-Scooter-Adults-Pneumatic-Commuting/dp/B0CC8XLMV7/ref=sr_1_303?keywords=electric+scooter&qid=1696567146&sr=8-303 running now\n",
            "all_reviews_link is : \n",
            "\n",
            "\n",
            "Fetching All Product Reviews Now\n",
            "\n",
            "\n",
            "https://www.amazon.com/isinwheel-S9Pro-Electric-Scooter-Miles/dp/B0CJJ8LMQK/ref=sr_1_304?keywords=electric+scooter&qid=1696567146&sr=8-304 running now\n",
            "all_reviews_link is : \n",
            "\n",
            "\n",
            "Fetching All Product Reviews Now\n",
            "\n",
            "\n",
            "https://www.amazon.com/Electric-Colorful-Bluetooth-Adjustable-Foldable/dp/B0BR7HPVFJ/ref=sr_1_305?keywords=electric+scooter&qid=1696567146&sr=8-305 running now\n",
            "all_reviews_link is : https://www.amazon.com/Electric-Colorful-Bluetooth-Adjustable-Foldable/product-reviews/B0BR7HPVFJ/ref=cm_cr_dp_d_show_all_btm?ie=UTF8&reviewerType=all_reviews\n",
            "\n",
            "\n",
            "Fetching All Product Reviews Now\n",
            "\n",
            "\n",
            "https://www.amazon.com/Electric-Colorful-Bluetooth-Adjustable-Foldable/product-reviews/B0BR7HPVFJ/ref=cm_cr_dp_d_show_all_btm?ie=UTF8&reviewerType=all_reviews running now\n"
          ]
        },
        {
          "name": "stderr",
          "output_type": "stream",
          "text": [
            "<ipython-input-8-f86477106e13>:100: FutureWarning: The frame.append method is deprecated and will be removed from pandas in a future version. Use pandas.concat instead.\n",
            "  full_product_comment_df = full_product_comment_df.append(temp_product_comment_df)\n"
          ]
        },
        {
          "name": "stdout",
          "output_type": "stream",
          "text": [
            "https://www.amazon.com/Q06Pro-Electric-Scooter-Off-Road-Chargers/dp/B0BL6XH63X/ref=sr_1_306?keywords=electric+scooter&qid=1696567146&sr=8-306 running now\n",
            "all_reviews_link is : https://www.amazon.com/Q06Pro-Electric-Scooter-Off-Road-Chargers/product-reviews/B0BL6XH63X/ref=cm_cr_dp_d_show_all_btm?ie=UTF8&reviewerType=all_reviews\n",
            "\n",
            "\n",
            "Fetching All Product Reviews Now\n",
            "\n",
            "\n",
            "https://www.amazon.com/Q06Pro-Electric-Scooter-Off-Road-Chargers/product-reviews/B0BL6XH63X/ref=cm_cr_dp_d_show_all_btm?ie=UTF8&reviewerType=all_reviews running now\n"
          ]
        },
        {
          "name": "stderr",
          "output_type": "stream",
          "text": [
            "<ipython-input-8-f86477106e13>:100: FutureWarning: The frame.append method is deprecated and will be removed from pandas in a future version. Use pandas.concat instead.\n",
            "  full_product_comment_df = full_product_comment_df.append(temp_product_comment_df)\n"
          ]
        },
        {
          "name": "stdout",
          "output_type": "stream",
          "text": [
            "https://www.amazon.com/Q06Pro-Electric-Scooter-Off-Road-Chargers/product-reviews/B0BL6XH63X/ref=cm_cr_arp_d_paging_btm_2?ie=UTF8&pageNumber=2&reviewerType=all_reviews running now\n"
          ]
        },
        {
          "name": "stderr",
          "output_type": "stream",
          "text": [
            "<ipython-input-8-f86477106e13>:100: FutureWarning: The frame.append method is deprecated and will be removed from pandas in a future version. Use pandas.concat instead.\n",
            "  full_product_comment_df = full_product_comment_df.append(temp_product_comment_df)\n"
          ]
        },
        {
          "name": "stdout",
          "output_type": "stream",
          "text": [
            "https://www.amazon.com/Q06Pro-Electric-Scooter-Off-Road-Chargers/product-reviews/B0BL6XH63X/ref=cm_cr_arp_d_paging_btm_3?ie=UTF8&pageNumber=3&reviewerType=all_reviews running now\n"
          ]
        },
        {
          "name": "stderr",
          "output_type": "stream",
          "text": [
            "<ipython-input-8-f86477106e13>:100: FutureWarning: The frame.append method is deprecated and will be removed from pandas in a future version. Use pandas.concat instead.\n",
            "  full_product_comment_df = full_product_comment_df.append(temp_product_comment_df)\n"
          ]
        }
      ],
      "source": [
        "#for i in range(len(product_link_df)):\n",
        "for i in range(300,len(product_link_df)):#Change this range to extract the data in parts\n",
        "\n",
        "  driver = webdriver.Chrome(options=chrome_options)\n",
        "\n",
        "  url = product_link_df.iloc[i][0]###TO BE CHANGED\n",
        "  print(url+\" running now\")\n",
        "\n",
        "  time.sleep(random.uniform(3, 6))\n",
        "\n",
        "  driver.get(url)\n",
        "\n",
        "  product_name=\"\"\n",
        "  product_name_element= driver.find_elements(By.CLASS_NAME,'a-size-large.product-title-word-break')\n",
        "  for product_name_val in product_name_element:\n",
        "    product_name=product_name_val.text\n",
        "\n",
        "  product_rating=\"\"\n",
        "  product_rating_element= driver.find_elements(By.XPATH,'//*[@id=\"acrPopover\"]/span[1]/a/span')\n",
        "  for product_rating_val in product_rating_element:\n",
        "    product_rating=product_rating_val.text\n",
        "\n",
        "  product_price=\"\"\n",
        "  product_price_element= driver.find_elements(By.CLASS_NAME,'a-price-whole')\n",
        "  if len(product_price_element)>0:\n",
        "    product_price=product_price_element[0].text\n",
        "  else:\n",
        "    for product_price_val in product_price_element:\n",
        "      product_price=product_price_val.text\n",
        "\n",
        "  all_reviews_link=\"\"\n",
        "  product_all_reviews_link_element= driver.find_elements(By.CLASS_NAME,'a-link-emphasis.a-text-bold')\n",
        "  for product_all_reviews_link in product_all_reviews_link_element:\n",
        "    all_reviews_link=product_all_reviews_link.get_attribute(\"href\")\n",
        "\n",
        "  print(\"all_reviews_link is :\",all_reviews_link)\n",
        "\n",
        "  full_product_comment_df = pd.DataFrame()\n",
        "  #--------------------------------------------------\n",
        "\n",
        "  print(\"\\n\\nFetching All Product Reviews Now\\n\\n\")\n",
        "\n",
        "  time.sleep(random.uniform(1, 3))\n",
        "\n",
        "  review_url = all_reviews_link\n",
        "\n",
        "  if review_url!=\"\":\n",
        "    loop_check = 1\n",
        "  else:\n",
        "    loop_check = 0\n",
        "\n",
        "  while loop_check == 1:\n",
        "\n",
        "    time.sleep(random.uniform(1, 2))\n",
        "\n",
        "    product_serial_no_details =[]\n",
        "    product_name_details =[]\n",
        "    product_rating_details =[]\n",
        "    product_comment_details =[]\n",
        "    product_price_details = []\n",
        "    review_rating_details = []\n",
        "\n",
        "    driver = webdriver.Chrome(options=chrome_options)\n",
        "\n",
        "    driver.get(review_url)\n",
        "\n",
        "    print(review_url+\" running now\")\n",
        "\n",
        "    review_elements = driver.find_elements(By.CLASS_NAME,'a-section.review.aok-relative')\n",
        "    for each_review_element in review_elements:\n",
        "      review_text = each_review_element.find_element(By.CLASS_NAME, 'a-size-base.review-text.review-text-content')\n",
        "      review_text = review_text.text\n",
        "      try:\n",
        "        review_rating_try = each_review_element.find_element(By.CLASS_NAME, 'a-icon.a-icon-star.a-star-5.review-rating')\n",
        "        review_rating = 5\n",
        "      except Exception as e:\n",
        "        try:\n",
        "          review_rating_try = each_review_element.find_element(By.CLASS_NAME, 'a-icon.a-icon-star.a-star-4.review-rating')\n",
        "          review_rating = 4\n",
        "        except Exception as e:\n",
        "          try:\n",
        "            review_rating_try = each_review_element.find_element(By.CLASS_NAME, 'a-icon.a-icon-star.a-star-3.review-rating')\n",
        "            review_rating = 3\n",
        "          except Exception as e:\n",
        "            try:\n",
        "              review_rating_try = each_review_element.find_element(By.CLASS_NAME, 'a-icon.a-icon-star.a-star-2.review-rating')\n",
        "              review_rating = 2\n",
        "            except Exception as e:\n",
        "              review_rating_try = each_review_element.find_element(By.CLASS_NAME, 'a-icon.a-icon-star.a-star-1.review-rating')\n",
        "              review_rating = 1\n",
        "\n",
        "\n",
        "      product_serial_no_details.append(i)\n",
        "      product_name_details.append(product_name)\n",
        "      product_rating_details.append(product_rating)\n",
        "      product_comment_details.append(review_text)\n",
        "      product_price_details.append(product_price)\n",
        "      review_rating_details.append(review_rating)\n",
        "\n",
        "    temp_product_comment_df = pd.DataFrame({\"serial_no\":product_serial_no_details,\"product_name\":product_name_details, \\\n",
        "                                            \"product_rating\": product_rating_details,\"product_price\": product_price_details,\n",
        "                                            \"review_comment\": product_comment_details,\"review_rating\": review_rating_details})\n",
        "    full_product_comment_df = full_product_comment_df.append(temp_product_comment_df)\n",
        "\n",
        "\n",
        "    next_page_url=\"\"\n",
        "    next_page_url_element= driver.find_elements(By.CLASS_NAME,'a-last')\n",
        "    for next_page_url_val_arr in next_page_url_element:\n",
        "      next_page_url_val_arr = next_page_url_val_arr.find_elements(By.TAG_NAME, 'a')\n",
        "      for next_page_url_val in next_page_url_val_arr:\n",
        "        next_page_url = next_page_url_val.get_attribute(\"href\")\n",
        "\n",
        "    #driver.quit()\n",
        "\n",
        "    if next_page_url==\"\":\n",
        "      loop_check = 0\n",
        "    else:\n",
        "      review_url = next_page_url\n",
        "\n",
        "  if os.path.exists(\"Electric_Scooter_Reviews.csv\"):\n",
        "      full_product_comment_df.to_csv(\"Electric_Scooter_Reviews.csv\", mode='a', header=False, index=False)\n",
        "  else:\n",
        "      full_product_comment_df.to_csv(\"Electric_Scooter_Reviews.csv\", mode='w', header=True, index=False)\n",
        "\n",
        "\n"
      ]
    },
    {
      "cell_type": "code",
      "execution_count": null,
      "metadata": {
        "id": "ij8HodNFcsT_",
        "outputId": "0686a638-aa43-4042-de8b-e5eff7db19d3"
      },
      "outputs": [
        {
          "data": {
            "text/plain": [
              "{'Brand': 'Gotrax',\n",
              " 'Color': 'Black',\n",
              " 'Special Feature': 'Dual Rear suspensions, Non Slip Deck, Lightweight, Adjustable Seat Height, Carry Basket, Drum Drum Brakes',\n",
              " 'Weight Limit': '264 Pounds',\n",
              " 'Number of Wheels': '2',\n",
              " 'Model Name': 'ASTRO',\n",
              " 'Wheel Material': 'Rubber',\n",
              " 'Frame Material': 'High strength steel',\n",
              " 'Item Weight': '67.2 pounds',\n",
              " 'Handlebar Type': 'Adjustable',\n",
              " 'Wheel Type': 'Pneumatic',\n",
              " 'Suspension Type': 'Dual Rear suspensions',\n",
              " 'Brake Style': 'Drum Drum Brakes',\n",
              " 'Warranty Type': '365 Days',\n",
              " 'Recommended Uses For Product': 'Cycling, Commuting',\n",
              " 'Package Dimensions': '51.5 x 24 x 9.5 inches',\n",
              " 'Country of Origin': 'China',\n",
              " 'ASIN': 'B0C8CXNFGY',\n",
              " 'Item model number': 'ASTRO',\n",
              " 'Batteries': '1 Lithium Ion batteries required. (included)',\n",
              " 'Best Sellers Rank': '#8,699 in Sports & Outdoors (See Top 100 in Sports & Outdoors)\\n#56 in Sport Scooters',\n",
              " 'Customer Reviews': '4.8\\n126 ratings\\n4.8 out of 5 stars',\n",
              " 'Department': 'Unisex-adult',\n",
              " 'Manufacturer': 'ZHE JIANG TAOTAO VEHICLES CO.,LTD',\n",
              " 'Price': '399',\n",
              " 'Product Name': 'Gotrax ASTRO Electric Scooter with Seat for Adult Commuter,15.5 Miles Range&15.5Mph Power by 350W Motor, Folding Scooter with 14\" Pneumatic Tire& Comfortable Wider Seat, E-Bike with Carry Basket Black',\n",
              " 'Product Rating': '4.8'}"
            ]
          },
          "execution_count": 15,
          "metadata": {},
          "output_type": "execute_result"
        }
      ],
      "source": [
        "from selenium import webdriver\n",
        "from selenium.webdriver.firefox.options import Options\n",
        "from selenium.webdriver.common.by import By\n",
        "from selenium.webdriver.support.ui import WebDriverWait\n",
        "from selenium.webdriver.support import expected_conditions as EC\n",
        "\n",
        "def get_product_features(link_string):\n",
        "    options = Options()\n",
        "    options.log.level = \"trace\"  # Enable trace logs to help with debugging\n",
        "    options.set_preference(\"browser.link.open_newwindow.restriction\", 3)\n",
        "    options.set_preference(\"browser.link.open_newwindow\", 0)\n",
        "    firefoxDriver = webdriver.Firefox(options=options)\n",
        "\n",
        "    \"firefoxDriver.get('https://www.amazon.com/Gotrax-ASTRO-Electric-Pneumatic-Comfortable/dp/B0C8CXNFGY?th=1')\"\n",
        "    firefoxDriver.get(link_string)\n",
        "    wait = WebDriverWait(firefoxDriver, 10)\n",
        "    id_string = 'productDetails_techSpec_section_1'\n",
        "    try:\n",
        "        wait.until(EC.presence_of_element_located((By.ID, id_string)))\n",
        "    except:\n",
        "        id_string = 'productDetails_detailBullets_sections1'\n",
        "\n",
        "    try:\n",
        "        wait.until(EC.presence_of_element_located((By.ID, id_string)))\n",
        "    except:\n",
        "        print(\"No table found\")\n",
        "        empty_dic={}\n",
        "        return empty_dic\n",
        "\n",
        "    table = firefoxDriver.find_element(By.ID ,id_string)\n",
        "    productFeatures = {}\n",
        "\n",
        "    for row in table.find_elements(By.TAG_NAME ,'tr'):\n",
        "        header_cells = row.find_elements(By.TAG_NAME, 'th')\n",
        "        data_cells = row.find_elements(By.TAG_NAME, 'td')\n",
        "\n",
        "        if header_cells and data_cells:\n",
        "            header = header_cells[0].text.strip()\n",
        "            data = data_cells[0].text.strip()\n",
        "            productFeatures[header] = data\n",
        "\n",
        "    price = firefoxDriver.find_element(By.CLASS_NAME, \"a-price-whole\").text.strip()\n",
        "    productFeatures['Price'] = price\n",
        "\n",
        "    product_name1=\"\"\n",
        "    product_name_element= firefoxDriver.find_elements(By.CLASS_NAME,'a-size-large.product-title-word-break')\n",
        "    for product_name_val in product_name_element:\n",
        "        product_name1=product_name_val.text\n",
        "    productFeatures['Product Name'] = product_name1\n",
        "\n",
        "    product_rating1=\"\"\n",
        "    product_rating_element = firefoxDriver.find_elements(By.CLASS_NAME,'a-size-base.a-color-base')\n",
        "    for count,product_rating_val in enumerate(product_rating_element):\n",
        "        product_rating1 = product_rating_val.text\n",
        "        if(count==2):\n",
        "            break\n",
        "    productFeatures['Product Rating'] = product_rating1\n",
        "    firefoxDriver.close()\n",
        "    return productFeatures\n",
        "\n",
        "#get_product_features('https://www.amazon.com/Gotrax-ASTRO-Electric-Pneumatic-Comfortable/dp/B0C8CXNFGY?th=1')"
      ]
    },
    {
      "cell_type": "code",
      "execution_count": null,
      "metadata": {
        "id": "5UUccipacsT_"
      },
      "outputs": [],
      "source": []
    }
  ],
  "metadata": {
    "colab": {
      "provenance": []
    },
    "kernelspec": {
      "display_name": "Python 3 (ipykernel)",
      "language": "python",
      "name": "python3"
    },
    "language_info": {
      "codemirror_mode": {
        "name": "ipython",
        "version": 3
      },
      "file_extension": ".py",
      "mimetype": "text/x-python",
      "name": "python",
      "nbconvert_exporter": "python",
      "pygments_lexer": "ipython3",
      "version": "3.9.6"
    }
  },
  "nbformat": 4,
  "nbformat_minor": 0
}