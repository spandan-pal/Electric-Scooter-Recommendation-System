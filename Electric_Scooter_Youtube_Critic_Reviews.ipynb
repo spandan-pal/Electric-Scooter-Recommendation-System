{
  "cells": [
    {
      "cell_type": "markdown",
      "source": [
        "# Electric Scooter - Project\n",
        "\n",
        "**Team Members - MSBA '24 Morning Cohort:**\n",
        "- Karthick Vel Kathirvel (kk37347)\n",
        "- Sharan Arora (sa44827)\n",
        "- Spandan Pal (sp54969)\n",
        "- Manideep Telukuntla (mt39528)\n",
        "- Pritesh Singh (ps35762)\n",
        "- Raghav Vaidya (rv25256)\n"
      ],
      "metadata": {
        "id": "C0JWiAGGcQZS"
      }
    },
    {
      "cell_type": "code",
      "execution_count": null,
      "metadata": {
        "id": "E4kv1qvZcPl7",
        "outputId": "f3a32ca7-5bff-4c86-956e-d196e4439a24"
      },
      "outputs": [
        {
          "name": "stdout",
          "output_type": "stream",
          "text": [
            "Collecting google-api-python-client\n",
            "  Obtaining dependency information for google-api-python-client from https://files.pythonhosted.org/packages/f8/e9/11fb73fe17f63e2e8aa7c1f4afb790ab737c0881dce4757bdead998ef48d/google_api_python_client-2.102.0-py2.py3-none-any.whl.metadata\n",
            "  Using cached google_api_python_client-2.102.0-py2.py3-none-any.whl.metadata (6.6 kB)\n",
            "Collecting httplib2<1.dev0,>=0.15.0 (from google-api-python-client)\n",
            "  Using cached httplib2-0.22.0-py3-none-any.whl (96 kB)\n",
            "Collecting google-auth<3.0.0.dev0,>=1.19.0 (from google-api-python-client)\n",
            "  Obtaining dependency information for google-auth<3.0.0.dev0,>=1.19.0 from https://files.pythonhosted.org/packages/d7/88/1826b0c047c48763b36ed854a984127b430a16b70003155d7b19975f1d59/google_auth-2.23.2-py2.py3-none-any.whl.metadata\n",
            "  Using cached google_auth-2.23.2-py2.py3-none-any.whl.metadata (4.2 kB)\n",
            "Collecting google-auth-httplib2>=0.1.0 (from google-api-python-client)\n",
            "  Obtaining dependency information for google-auth-httplib2>=0.1.0 from https://files.pythonhosted.org/packages/d3/3d/e4991229886c0d522d9552151a43ff7adcc61e026e60ce8bd508387f84cf/google_auth_httplib2-0.1.1-py2.py3-none-any.whl.metadata\n",
            "  Using cached google_auth_httplib2-0.1.1-py2.py3-none-any.whl.metadata (2.1 kB)\n",
            "Collecting google-api-core!=2.0.*,!=2.1.*,!=2.2.*,!=2.3.0,<3.0.0.dev0,>=1.31.5 (from google-api-python-client)\n",
            "  Obtaining dependency information for google-api-core!=2.0.*,!=2.1.*,!=2.2.*,!=2.3.0,<3.0.0.dev0,>=1.31.5 from https://files.pythonhosted.org/packages/4d/ce/4fd62ea66b3508debc795e475336ce915929765870f0ad52328426ba016e/google_api_core-2.12.0-py3-none-any.whl.metadata\n",
            "  Using cached google_api_core-2.12.0-py3-none-any.whl.metadata (2.7 kB)\n",
            "Collecting uritemplate<5,>=3.0.1 (from google-api-python-client)\n",
            "  Using cached uritemplate-4.1.1-py2.py3-none-any.whl (10 kB)\n",
            "Collecting googleapis-common-protos<2.0.dev0,>=1.56.2 (from google-api-core!=2.0.*,!=2.1.*,!=2.2.*,!=2.3.0,<3.0.0.dev0,>=1.31.5->google-api-python-client)\n",
            "  Obtaining dependency information for googleapis-common-protos<2.0.dev0,>=1.56.2 from https://files.pythonhosted.org/packages/a7/bc/416a1ffeba4dcd072bc10523dac9ed97f2e7fc4b760580e2bdbdc1e2afdd/googleapis_common_protos-1.60.0-py2.py3-none-any.whl.metadata\n",
            "  Using cached googleapis_common_protos-1.60.0-py2.py3-none-any.whl.metadata (1.5 kB)\n",
            "Collecting protobuf!=3.20.0,!=3.20.1,!=4.21.0,!=4.21.1,!=4.21.2,!=4.21.3,!=4.21.4,!=4.21.5,<5.0.0.dev0,>=3.19.5 (from google-api-core!=2.0.*,!=2.1.*,!=2.2.*,!=2.3.0,<3.0.0.dev0,>=1.31.5->google-api-python-client)\n",
            "  Obtaining dependency information for protobuf!=3.20.0,!=3.20.1,!=4.21.0,!=4.21.1,!=4.21.2,!=4.21.3,!=4.21.4,!=4.21.5,<5.0.0.dev0,>=3.19.5 from https://files.pythonhosted.org/packages/c2/59/f89c04923d68595d359f4cd7adbbdf5e5d791257945f8873d88b2fd1f979/protobuf-4.24.4-cp310-abi3-win_amd64.whl.metadata\n",
            "  Using cached protobuf-4.24.4-cp310-abi3-win_amd64.whl.metadata (540 bytes)\n",
            "Requirement already satisfied: requests<3.0.0.dev0,>=2.18.0 in c:\\users\\kkart\\onedrive\\mccombsmsba\\intro to ml\\new folder\\sta380\\sta380\\pytorchcudaenabled1\\lib\\site-packages (from google-api-core!=2.0.*,!=2.1.*,!=2.2.*,!=2.3.0,<3.0.0.dev0,>=1.31.5->google-api-python-client) (2.28.1)\n",
            "Collecting cachetools<6.0,>=2.0.0 (from google-auth<3.0.0.dev0,>=1.19.0->google-api-python-client)\n",
            "  Obtaining dependency information for cachetools<6.0,>=2.0.0 from https://files.pythonhosted.org/packages/a9/c9/c8a7710f2cedcb1db9224fdd4d8307c9e48cbddc46c18b515fefc0f1abbe/cachetools-5.3.1-py3-none-any.whl.metadata\n",
            "  Using cached cachetools-5.3.1-py3-none-any.whl.metadata (5.2 kB)\n",
            "Collecting pyasn1-modules>=0.2.1 (from google-auth<3.0.0.dev0,>=1.19.0->google-api-python-client)\n",
            "  Using cached pyasn1_modules-0.3.0-py2.py3-none-any.whl (181 kB)\n",
            "Collecting rsa<5,>=3.1.4 (from google-auth<3.0.0.dev0,>=1.19.0->google-api-python-client)\n",
            "  Using cached rsa-4.9-py3-none-any.whl (34 kB)\n",
            "Requirement already satisfied: pyparsing!=3.0.0,!=3.0.1,!=3.0.2,!=3.0.3,<4,>=2.4.2 in c:\\users\\kkart\\onedrive\\mccombsmsba\\intro to ml\\new folder\\sta380\\sta380\\pytorchcudaenabled1\\lib\\site-packages (from httplib2<1.dev0,>=0.15.0->google-api-python-client) (3.0.9)\n",
            "Collecting pyasn1<0.6.0,>=0.4.6 (from pyasn1-modules>=0.2.1->google-auth<3.0.0.dev0,>=1.19.0->google-api-python-client)\n",
            "  Using cached pyasn1-0.5.0-py2.py3-none-any.whl (83 kB)\n",
            "Requirement already satisfied: charset-normalizer<3,>=2 in c:\\users\\kkart\\onedrive\\mccombsmsba\\intro to ml\\new folder\\sta380\\sta380\\pytorchcudaenabled1\\lib\\site-packages (from requests<3.0.0.dev0,>=2.18.0->google-api-core!=2.0.*,!=2.1.*,!=2.2.*,!=2.3.0,<3.0.0.dev0,>=1.31.5->google-api-python-client) (2.1.1)\n",
            "Requirement already satisfied: idna<4,>=2.5 in c:\\users\\kkart\\onedrive\\mccombsmsba\\intro to ml\\new folder\\sta380\\sta380\\pytorchcudaenabled1\\lib\\site-packages (from requests<3.0.0.dev0,>=2.18.0->google-api-core!=2.0.*,!=2.1.*,!=2.2.*,!=2.3.0,<3.0.0.dev0,>=1.31.5->google-api-python-client) (3.4)\n",
            "Requirement already satisfied: urllib3<1.27,>=1.21.1 in c:\\users\\kkart\\onedrive\\mccombsmsba\\intro to ml\\new folder\\sta380\\sta380\\pytorchcudaenabled1\\lib\\site-packages (from requests<3.0.0.dev0,>=2.18.0->google-api-core!=2.0.*,!=2.1.*,!=2.2.*,!=2.3.0,<3.0.0.dev0,>=1.31.5->google-api-python-client) (1.26.13)\n",
            "Requirement already satisfied: certifi>=2017.4.17 in c:\\users\\kkart\\onedrive\\mccombsmsba\\intro to ml\\new folder\\sta380\\sta380\\pytorchcudaenabled1\\lib\\site-packages (from requests<3.0.0.dev0,>=2.18.0->google-api-core!=2.0.*,!=2.1.*,!=2.2.*,!=2.3.0,<3.0.0.dev0,>=1.31.5->google-api-python-client) (2022.12.7)\n",
            "Downloading google_api_python_client-2.102.0-py2.py3-none-any.whl (12.4 MB)\n",
            "   ---------------------------------------- 0.0/12.4 MB ? eta -:--:--\n",
            "   ---------------------------------------- 0.0/12.4 MB 1.3 MB/s eta 0:00:10\n",
            "   ---------------------------------------- 0.0/12.4 MB 1.3 MB/s eta 0:00:10\n",
            "   ---------------------------------------- 0.0/12.4 MB 1.3 MB/s eta 0:00:10\n",
            "   ---------------------------------------- 0.0/12.4 MB 1.3 MB/s eta 0:00:10\n",
            "   ---------------------------------------- 0.0/12.4 MB 1.3 MB/s eta 0:00:10\n",
            "   ---------------------------------------- 0.0/12.4 MB 1.3 MB/s eta 0:00:10\n",
            "   ---------------------------------------- 0.0/12.4 MB 1.3 MB/s eta 0:00:10\n",
            "   ---------------------------------------- 0.1/12.4 MB 178.6 kB/s eta 0:01:10\n",
            "    --------------------------------------- 0.2/12.4 MB 573.4 kB/s eta 0:00:22\n",
            "   - -------------------------------------- 0.3/12.4 MB 756.6 kB/s eta 0:00:17\n",
            "   - -------------------------------------- 0.3/12.4 MB 756.6 kB/s eta 0:00:17\n",
            "   - -------------------------------------- 0.3/12.4 MB 756.6 kB/s eta 0:00:17\n",
            "   - -------------------------------------- 0.5/12.4 MB 779.5 kB/s eta 0:00:16\n",
            "   -- ------------------------------------- 0.6/12.4 MB 1.0 MB/s eta 0:00:12\n",
            "   -- ------------------------------------- 0.7/12.4 MB 960.0 kB/s eta 0:00:13\n",
            "   -- ------------------------------------- 0.9/12.4 MB 1.3 MB/s eta 0:00:10\n",
            "   --- ------------------------------------ 1.0/12.4 MB 1.3 MB/s eta 0:00:09\n",
            "   --- ------------------------------------ 1.0/12.4 MB 1.3 MB/s eta 0:00:09\n",
            "   --- ------------------------------------ 1.1/12.4 MB 1.3 MB/s eta 0:00:09\n",
            "   --- ------------------------------------ 1.2/12.4 MB 1.4 MB/s eta 0:00:08\n",
            "   ----- ---------------------------------- 1.6/12.4 MB 1.7 MB/s eta 0:00:07\n",
            "   ----- ---------------------------------- 1.8/12.4 MB 1.8 MB/s eta 0:00:06\n",
            "   ----- ---------------------------------- 1.8/12.4 MB 1.8 MB/s eta 0:00:06\n",
            "   ----- ---------------------------------- 1.8/12.4 MB 1.8 MB/s eta 0:00:06\n",
            "   ----- ---------------------------------- 1.8/12.4 MB 1.8 MB/s eta 0:00:06\n",
            "   ----- ---------------------------------- 1.8/12.4 MB 1.8 MB/s eta 0:00:06\n",
            "   ----- ---------------------------------- 1.8/12.4 MB 1.8 MB/s eta 0:00:06\n",
            "   ----- ---------------------------------- 1.9/12.4 MB 1.5 MB/s eta 0:00:08\n",
            "   ----- ---------------------------------- 1.9/12.4 MB 1.5 MB/s eta 0:00:08\n",
            "   ------ --------------------------------- 2.0/12.4 MB 1.5 MB/s eta 0:00:08\n",
            "   ------ --------------------------------- 2.1/12.4 MB 1.5 MB/s eta 0:00:07\n",
            "   ------ --------------------------------- 2.2/12.4 MB 1.5 MB/s eta 0:00:07\n",
            "   ------ --------------------------------- 2.2/12.4 MB 1.5 MB/s eta 0:00:07\n",
            "   ------ --------------------------------- 2.2/12.4 MB 1.5 MB/s eta 0:00:07\n",
            "   ------ --------------------------------- 2.2/12.4 MB 1.5 MB/s eta 0:00:07\n",
            "   ------ --------------------------------- 2.2/12.4 MB 1.5 MB/s eta 0:00:07\n",
            "   ------ --------------------------------- 2.2/12.4 MB 1.5 MB/s eta 0:00:07\n",
            "   ------ --------------------------------- 2.2/12.4 MB 1.5 MB/s eta 0:00:07\n",
            "   ------ --------------------------------- 2.2/12.4 MB 1.5 MB/s eta 0:00:07\n",
            "   ------ --------------------------------- 2.2/12.4 MB 1.5 MB/s eta 0:00:07\n",
            "   ------- -------------------------------- 2.3/12.4 MB 1.2 MB/s eta 0:00:09\n",
            "   ------- -------------------------------- 2.4/12.4 MB 1.3 MB/s eta 0:00:08\n",
            "   ------- -------------------------------- 2.4/12.4 MB 1.2 MB/s eta 0:00:09\n",
            "   -------- ------------------------------- 2.6/12.4 MB 1.3 MB/s eta 0:00:08\n",
            "   -------- ------------------------------- 2.7/12.4 MB 1.3 MB/s eta 0:00:08\n",
            "   -------- ------------------------------- 2.8/12.4 MB 1.3 MB/s eta 0:00:08\n",
            "   -------- ------------------------------- 2.8/12.4 MB 1.3 MB/s eta 0:00:08\n",
            "   -------- ------------------------------- 2.8/12.4 MB 1.3 MB/s eta 0:00:08\n",
            "   -------- ------------------------------- 2.8/12.4 MB 1.3 MB/s eta 0:00:08\n",
            "   -------- ------------------------------- 2.8/12.4 MB 1.3 MB/s eta 0:00:08\n",
            "   --------- ------------------------------ 2.8/12.4 MB 1.2 MB/s eta 0:00:08\n",
            "   --------- ------------------------------ 2.9/12.4 MB 1.2 MB/s eta 0:00:08\n",
            "   --------- ------------------------------ 2.9/12.4 MB 1.2 MB/s eta 0:00:08\n",
            "   --------- ------------------------------ 3.1/12.4 MB 1.2 MB/s eta 0:00:08\n",
            "   ---------- ----------------------------- 3.3/12.4 MB 1.3 MB/s eta 0:00:08\n",
            "   ----------- ---------------------------- 3.4/12.4 MB 1.3 MB/s eta 0:00:07\n",
            "   ----------- ---------------------------- 3.4/12.4 MB 1.3 MB/s eta 0:00:07\n",
            "   ----------- ---------------------------- 3.4/12.4 MB 1.3 MB/s eta 0:00:07\n",
            "   ----------- ---------------------------- 3.4/12.4 MB 1.3 MB/s eta 0:00:07\n",
            "   ----------- ---------------------------- 3.6/12.4 MB 1.3 MB/s eta 0:00:07\n",
            "   ----------- ---------------------------- 3.7/12.4 MB 1.3 MB/s eta 0:00:07\n",
            "   ----------- ---------------------------- 3.7/12.4 MB 1.3 MB/s eta 0:00:07\n",
            "   ------------ --------------------------- 3.8/12.4 MB 1.3 MB/s eta 0:00:07\n",
            "   ------------ --------------------------- 3.8/12.4 MB 1.3 MB/s eta 0:00:07\n",
            "   ------------ --------------------------- 4.0/12.4 MB 1.3 MB/s eta 0:00:07\n",
            "   ------------ --------------------------- 4.0/12.4 MB 1.3 MB/s eta 0:00:07\n",
            "   ------------- -------------------------- 4.1/12.4 MB 1.3 MB/s eta 0:00:07\n",
            "   -------------- ------------------------- 4.4/12.4 MB 1.4 MB/s eta 0:00:06\n",
            "   -------------- ------------------------- 4.5/12.4 MB 1.4 MB/s eta 0:00:06\n",
            "   -------------- ------------------------- 4.5/12.4 MB 1.4 MB/s eta 0:00:06\n",
            "   -------------- ------------------------- 4.5/12.4 MB 1.4 MB/s eta 0:00:06\n",
            "   -------------- ------------------------- 4.6/12.4 MB 1.4 MB/s eta 0:00:06\n",
            "   --------------- ------------------------ 4.8/12.4 MB 1.4 MB/s eta 0:00:06\n",
            "   --------------- ------------------------ 4.9/12.4 MB 1.4 MB/s eta 0:00:06\n",
            "   ---------------- ----------------------- 5.3/12.4 MB 1.5 MB/s eta 0:00:05\n",
            "   ----------------- ---------------------- 5.5/12.4 MB 1.6 MB/s eta 0:00:05\n",
            "   ------------------ --------------------- 5.6/12.4 MB 1.6 MB/s eta 0:00:05\n",
            "   ------------------ --------------------- 5.6/12.4 MB 1.6 MB/s eta 0:00:05\n",
            "   ------------------ --------------------- 5.6/12.4 MB 1.6 MB/s eta 0:00:05\n",
            "   ------------------ --------------------- 5.8/12.4 MB 1.6 MB/s eta 0:00:05\n",
            "   ------------------- -------------------- 6.2/12.4 MB 1.7 MB/s eta 0:00:04\n",
            "   -------------------- ------------------- 6.4/12.4 MB 1.7 MB/s eta 0:00:04\n",
            "   -------------------- ------------------- 6.4/12.4 MB 1.7 MB/s eta 0:00:04\n",
            "   -------------------- ------------------- 6.5/12.4 MB 1.7 MB/s eta 0:00:04\n",
            "   --------------------- ------------------ 6.6/12.4 MB 1.7 MB/s eta 0:00:04\n",
            "   ---------------------- ----------------- 6.9/12.4 MB 1.8 MB/s eta 0:00:04\n",
            "   ---------------------- ----------------- 6.9/12.4 MB 1.8 MB/s eta 0:00:04\n",
            "   ---------------------- ----------------- 7.0/12.4 MB 1.7 MB/s eta 0:00:04\n",
            "   ------------------------ --------------- 7.5/12.4 MB 1.8 MB/s eta 0:00:03\n",
            "   ------------------------ --------------- 7.5/12.4 MB 1.8 MB/s eta 0:00:03\n",
            "   ------------------------ --------------- 7.5/12.4 MB 1.8 MB/s eta 0:00:03\n",
            "   ------------------------- -------------- 7.8/12.4 MB 1.8 MB/s eta 0:00:03\n",
            "   -------------------------- ------------- 8.1/12.4 MB 1.9 MB/s eta 0:00:03\n",
            "   -------------------------- ------------- 8.1/12.4 MB 1.9 MB/s eta 0:00:03\n",
            "   --------------------------- ------------ 8.5/12.4 MB 1.9 MB/s eta 0:00:03\n",
            "   ---------------------------- ----------- 8.7/12.4 MB 2.0 MB/s eta 0:00:02\n",
            "   ---------------------------- ----------- 8.7/12.4 MB 2.0 MB/s eta 0:00:02\n",
            "   ---------------------------- ----------- 8.9/12.4 MB 2.0 MB/s eta 0:00:02\n",
            "   ---------------------------- ----------- 8.9/12.4 MB 2.0 MB/s eta 0:00:02\n",
            "   ------------------------------ --------- 9.5/12.4 MB 2.1 MB/s eta 0:00:02\n",
            "   ------------------------------ --------- 9.5/12.4 MB 2.1 MB/s eta 0:00:02\n",
            "   ------------------------------ --------- 9.5/12.4 MB 2.1 MB/s eta 0:00:02\n",
            "   -------------------------------- ------- 10.1/12.4 MB 2.1 MB/s eta 0:00:02\n",
            "   -------------------------------- ------- 10.2/12.4 MB 2.2 MB/s eta 0:00:02\n",
            "   ---------------------------------- ----- 10.6/12.4 MB 2.4 MB/s eta 0:00:01\n",
            "   ---------------------------------- ----- 10.8/12.4 MB 2.4 MB/s eta 0:00:01\n",
            "   ----------------------------------- ---- 11.0/12.4 MB 2.4 MB/s eta 0:00:01\n",
            "   ----------------------------------- ---- 11.2/12.4 MB 2.4 MB/s eta 0:00:01\n",
            "   ------------------------------------ --- 11.3/12.4 MB 2.4 MB/s eta 0:00:01\n",
            "   ------------------------------------- -- 11.7/12.4 MB 2.5 MB/s eta 0:00:01\n",
            "   -------------------------------------- - 11.9/12.4 MB 2.5 MB/s eta 0:00:01\n",
            "   -------------------------------------- - 11.9/12.4 MB 2.5 MB/s eta 0:00:01\n",
            "   ---------------------------------------  12.1/12.4 MB 2.7 MB/s eta 0:00:01\n",
            "   ---------------------------------------  12.4/12.4 MB 3.0 MB/s eta 0:00:01\n",
            "   ---------------------------------------- 12.4/12.4 MB 3.0 MB/s eta 0:00:00\n",
            "Downloading google_api_core-2.12.0-py3-none-any.whl (121 kB)\n",
            "   ---------------------------------------- 0.0/121.4 kB ? eta -:--:--\n",
            "   ---------------------------------------- 121.4/121.4 kB 3.6 MB/s eta 0:00:00\n",
            "Downloading google_auth-2.23.2-py2.py3-none-any.whl (181 kB)\n",
            "   ---------------------------------------- 0.0/182.0 kB ? eta -:--:--\n",
            "   ---------------------------------------- 182.0/182.0 kB 5.5 MB/s eta 0:00:00\n",
            "Downloading google_auth_httplib2-0.1.1-py2.py3-none-any.whl (9.3 kB)\n",
            "Using cached cachetools-5.3.1-py3-none-any.whl (9.3 kB)\n",
            "Downloading googleapis_common_protos-1.60.0-py2.py3-none-any.whl (227 kB)\n",
            "   ---------------------------------------- 0.0/227.6 kB ? eta -:--:--\n",
            "   ---------------------------------------- 227.6/227.6 kB 7.0 MB/s eta 0:00:00\n",
            "Downloading protobuf-4.24.4-cp310-abi3-win_amd64.whl (430 kB)\n",
            "   ---------------------------------------- 0.0/430.5 kB ? eta -:--:--\n",
            "   ----------------------- ---------------- 256.0/430.5 kB 5.2 MB/s eta 0:00:01\n",
            "   ---------------------------------- ----- 368.6/430.5 kB 5.7 MB/s eta 0:00:01\n",
            "   ---------------------------------------- 430.5/430.5 kB 3.9 MB/s eta 0:00:00\n",
            "Installing collected packages: uritemplate, pyasn1, protobuf, httplib2, cachetools, rsa, pyasn1-modules, googleapis-common-protos, google-auth, google-auth-httplib2, google-api-core, google-api-python-client\n",
            "Successfully installed cachetools-5.3.1 google-api-core-2.12.0 google-api-python-client-2.102.0 google-auth-2.23.2 google-auth-httplib2-0.1.1 googleapis-common-protos-1.60.0 httplib2-0.22.0 protobuf-4.24.4 pyasn1-0.5.0 pyasn1-modules-0.3.0 rsa-4.9 uritemplate-4.1.1\n",
            "Note: you may need to restart the kernel to use updated packages.\n"
          ]
        }
      ],
      "source": [
        "#pip install --upgrade google-api-python-client"
      ]
    },
    {
      "cell_type": "code",
      "execution_count": null,
      "metadata": {
        "id": "tZ_EtvA2cPl8"
      },
      "outputs": [],
      "source": [
        "import pandas as pd\n",
        "from googleapiclient.discovery import build"
      ]
    },
    {
      "cell_type": "code",
      "execution_count": null,
      "metadata": {
        "id": "9fufYMl5cPl8"
      },
      "outputs": [],
      "source": [
        "# Example DataFrame\n",
        "products = ['Wheelspeed Primer', 'Gotrax GXL V2', 'VOLPAM SPT7']"
      ]
    },
    {
      "cell_type": "code",
      "execution_count": null,
      "metadata": {
        "id": "mDqXJj8-cPl9"
      },
      "outputs": [],
      "source": [
        "#read file using with and read a string\n",
        "with open('youtubeKey.txt', 'r') as f:\n",
        "    youtubeKey = f.readline()"
      ]
    },
    {
      "cell_type": "code",
      "execution_count": null,
      "metadata": {
        "id": "9h5StvPUcPl9"
      },
      "outputs": [],
      "source": [
        "youtube = build('youtube', 'v3', developerKey=youtubeKey)"
      ]
    },
    {
      "cell_type": "code",
      "execution_count": null,
      "metadata": {
        "id": "DNYwAsaacPl9"
      },
      "outputs": [],
      "source": [
        "def search_videos(youtube, query):\n",
        "    request = youtube.search().list(\n",
        "        q=query,\n",
        "        part=\"id,snippet\",\n",
        "        maxResults=10,\n",
        "        type=\"video\"\n",
        "    )\n",
        "    response = request.execute()\n",
        "    return response['items']"
      ]
    },
    {
      "cell_type": "code",
      "execution_count": null,
      "metadata": {
        "id": "n7NxXtowcPl9"
      },
      "outputs": [],
      "source": [
        "for i in range(len(products)):\n",
        "    items = search_videos(youtube, products[i])\n",
        "    titles = [item['snippet']['title'] for item in items]\n",
        "    urls = [f\"https://www.youtube.com/watch?v={item['id']['videoId']}\" for item in items]\n",
        "    descriptions = [item['snippet']['description'] for item in items]\n",
        "    temp_df = pd.DataFrame({'Product': products[i], 'Video_Title': titles, 'Video_URL': urls, 'Video_Description': descriptions})\n",
        "    if i == 0:\n",
        "        product1 = temp_df.copy()\n",
        "    if i == 1:\n",
        "        product2 = temp_df.copy()\n",
        "    if i == 2:\n",
        "        product3 = temp_df.copy()"
      ]
    },
    {
      "cell_type": "code",
      "execution_count": null,
      "metadata": {
        "id": "axBqIs8FcPl9"
      },
      "outputs": [],
      "source": [
        "#read file using with and read a string\n",
        "with open('openAIKey.txt', 'r') as f:\n",
        "    openAIKey = f.readline()"
      ]
    },
    {
      "cell_type": "code",
      "execution_count": null,
      "metadata": {
        "id": "AahSx_0HcPl-"
      },
      "outputs": [],
      "source": [
        "prompts = []\n",
        "for i in range(3):\n",
        "    if i == 0:\n",
        "        product = product1.copy()\n",
        "    if i == 1:\n",
        "        product = product2.copy()\n",
        "    if i == 2:\n",
        "        product = product3.copy()\n",
        "    prompt = \"Product I am looking for: \" + product['Product'][0] + \"\\n\" + \"Are the video titles below strictly about the product I am looking for? Answer yes or no for each title with the same format as below.\" + \"\\n\" + \"Video Titles: \" + '\\n'.join(product.index.astype(\"str\") + ': ' + product['Video_Title'])\n",
        "    prompts.append(prompt)"
      ]
    },
    {
      "cell_type": "code",
      "execution_count": null,
      "metadata": {
        "id": "9wfW20rEcPl-"
      },
      "outputs": [],
      "source": [
        "import openai\n",
        "openai.api_key = openAIKey"
      ]
    },
    {
      "cell_type": "code",
      "execution_count": null,
      "metadata": {
        "id": "2M2SWTOZcPl-"
      },
      "outputs": [],
      "source": [
        "def queryGPT(queryPrompt):\n",
        "    response = openai.ChatCompletion.create(\n",
        "        model=\"gpt-4\",\n",
        "        messages=[\n",
        "            {\n",
        "            \"role\": \"user\",\n",
        "            \"content\": queryPrompt\n",
        "            }\n",
        "        ],\n",
        "        temperature=1,\n",
        "        max_tokens=3000,\n",
        "        top_p=1,\n",
        "        frequency_penalty=0,\n",
        "        presence_penalty=0\n",
        "    )\n",
        "    return response"
      ]
    },
    {
      "cell_type": "code",
      "execution_count": null,
      "metadata": {
        "id": "rROrMZh0cPl-"
      },
      "outputs": [],
      "source": [
        "prod1VideosToLookFor = [int(i.split(': ')[0]) for i in vars(queryGPT(prompts[0]))['_previous']['choices'][0]['message']['content'].split('\\n') if i.split(': ')[1] == 'Yes']\n",
        "prod2VideosToLookFor = [int(i.split(': ')[0]) for i in vars(queryGPT(prompts[1]))['_previous']['choices'][0]['message']['content'].split('\\n') if i.split(': ')[1] == 'Yes']\n",
        "prod3VideosToLookFor = [int(i.split(': ')[0]) for i in vars(queryGPT(prompts[2]))['_previous']['choices'][0]['message']['content'].split('\\n') if i.split(': ')[1] == 'Yes']"
      ]
    },
    {
      "cell_type": "code",
      "execution_count": null,
      "metadata": {
        "id": "XPVUY_Z_cPl-"
      },
      "outputs": [],
      "source": [
        "prod1VideosToLookFor = product1.iloc[prod1VideosToLookFor]\n",
        "prod2VideosToLookFor = product2.iloc[prod2VideosToLookFor]\n",
        "prod3VideosToLookFor = product3.iloc[prod3VideosToLookFor]"
      ]
    },
    {
      "cell_type": "code",
      "execution_count": null,
      "metadata": {
        "id": "JpEzihQJcPl-",
        "outputId": "5ec950fc-471d-465c-ae05-e710b5e6b6df"
      },
      "outputs": [
        {
          "name": "stderr",
          "output_type": "stream",
          "text": [
            "C:\\Users\\kkart\\AppData\\Local\\Temp\\ipykernel_21260\\99434895.py:1: SettingWithCopyWarning: \n",
            "A value is trying to be set on a copy of a slice from a DataFrame.\n",
            "Try using .loc[row_indexer,col_indexer] = value instead\n",
            "\n",
            "See the caveats in the documentation: https://pandas.pydata.org/pandas-docs/stable/user_guide/indexing.html#returning-a-view-versus-a-copy\n",
            "  prod1VideosToLookFor['videoID'] = prod1VideosToLookFor['Video_URL'].str.split('v=').str[1]\n",
            "C:\\Users\\kkart\\AppData\\Local\\Temp\\ipykernel_21260\\99434895.py:3: SettingWithCopyWarning: \n",
            "A value is trying to be set on a copy of a slice from a DataFrame.\n",
            "Try using .loc[row_indexer,col_indexer] = value instead\n",
            "\n",
            "See the caveats in the documentation: https://pandas.pydata.org/pandas-docs/stable/user_guide/indexing.html#returning-a-view-versus-a-copy\n",
            "  prod3VideosToLookFor['videoID'] = prod3VideosToLookFor['Video_URL'].str.split('v=').str[1]\n"
          ]
        }
      ],
      "source": [
        "prod1VideosToLookFor['videoID'] = prod1VideosToLookFor['Video_URL'].str.split('v=').str[1]\n",
        "prod2VideosToLookFor['videoID'] = prod2VideosToLookFor['Video_URL'].str.split('v=').str[1]\n",
        "prod3VideosToLookFor['videoID'] = prod3VideosToLookFor['Video_URL'].str.split('v=').str[1]"
      ]
    },
    {
      "cell_type": "code",
      "execution_count": null,
      "metadata": {
        "id": "_ARIRBwEcPl_"
      },
      "outputs": [],
      "source": [
        "from youtube_transcript_api import YouTubeTranscriptApi"
      ]
    },
    {
      "cell_type": "code",
      "execution_count": null,
      "metadata": {
        "id": "fy7KftlqcPl_",
        "outputId": "33c60b23-3aac-42d6-8057-d49b67ee9c56"
      },
      "outputs": [
        {
          "name": "stdout",
          "output_type": "stream",
          "text": [
            "An error occurred for video ptT_TREML5g: \n",
            "Could not retrieve a transcript for the video https://www.youtube.com/watch?v=ptT_TREML5g! This is most likely caused by:\n",
            "\n",
            "Subtitles are disabled for this video\n",
            "\n",
            "If you are sure that the described cause is not responsible for this error and that a transcript should be retrievable, please create an issue at https://github.com/jdepoix/youtube-transcript-api/issues. Please add which version of youtube_transcript_api you are using and provide the information needed to replicate the error. Also make sure that there are no open issues which already describe your problem!\n"
          ]
        },
        {
          "name": "stderr",
          "output_type": "stream",
          "text": [
            "C:\\Users\\kkart\\AppData\\Local\\Temp\\ipykernel_21260\\2852052447.py:38: SettingWithCopyWarning: \n",
            "A value is trying to be set on a copy of a slice from a DataFrame.\n",
            "Try using .loc[row_indexer,col_indexer] = value instead\n",
            "\n",
            "See the caveats in the documentation: https://pandas.pydata.org/pandas-docs/stable/user_guide/indexing.html#returning-a-view-versus-a-copy\n",
            "  prod1VideosToLookFor['reviewResponse'] = prod1VideosToLookFor.apply(fetch_and_analyze, axis=1)\n",
            "C:\\Users\\kkart\\AppData\\Local\\Temp\\ipykernel_21260\\2852052447.py:40: SettingWithCopyWarning: \n",
            "A value is trying to be set on a copy of a slice from a DataFrame.\n",
            "Try using .loc[row_indexer,col_indexer] = value instead\n",
            "\n",
            "See the caveats in the documentation: https://pandas.pydata.org/pandas-docs/stable/user_guide/indexing.html#returning-a-view-versus-a-copy\n",
            "  prod3VideosToLookFor['reviewResponse'] = prod3VideosToLookFor.apply(fetch_and_analyze, axis=1)\n"
          ]
        }
      ],
      "source": [
        "def fetch_and_analyze(row):\n",
        "    video_id = row['videoID']\n",
        "    try:\n",
        "        transcript = YouTubeTranscriptApi.get_transcript(video_id)\n",
        "    except Exception as e:\n",
        "        print(f\"An error occurred for video {video_id}: {e}\")\n",
        "        return None  # Return None for missing transcripts\n",
        "\n",
        "    text = ''\n",
        "    for entry in transcript:\n",
        "        text += ' ' + entry['text']\n",
        "\n",
        "    newPrompt = \"Find pros and cons of the product below:\" + \"\\n\" + text\n",
        "\n",
        "    try:\n",
        "        response = openai.ChatCompletion.create(\n",
        "            model=\"gpt-4\",\n",
        "            messages=[\n",
        "                {\n",
        "                    \"role\": \"user\",\n",
        "                    \"content\": newPrompt\n",
        "                }\n",
        "            ],\n",
        "            temperature=1,\n",
        "            max_tokens=3000,\n",
        "            top_p=1,\n",
        "            frequency_penalty=0,\n",
        "            presence_penalty=0\n",
        "        )\n",
        "    except Exception as e:\n",
        "        print(f\"An error occurred while generating response for video {video_id}: {e}\")\n",
        "        return None  # Return None for failed API calls\n",
        "\n",
        "    reviewResponse = vars(response)['_previous']['choices'][0]['message']['content']\n",
        "    return reviewResponse\n",
        "\n",
        "prod1VideosToLookFor['reviewResponse'] = prod1VideosToLookFor.apply(fetch_and_analyze, axis=1)\n",
        "prod2VideosToLookFor['reviewResponse'] = prod2VideosToLookFor.apply(fetch_and_analyze, axis=1)\n",
        "prod3VideosToLookFor['reviewResponse'] = prod3VideosToLookFor.apply(fetch_and_analyze, axis=1)\n"
      ]
    },
    {
      "cell_type": "code",
      "execution_count": null,
      "metadata": {
        "id": "hO37KPEacPl_"
      },
      "outputs": [],
      "source": [
        "prod1VideosToLookFor = prod1VideosToLookFor[~prod1VideosToLookFor['reviewResponse'].isnull()]\n",
        "prod2VideosToLookFor = prod2VideosToLookFor[~prod2VideosToLookFor['reviewResponse'].isnull()]\n",
        "prod3VideosToLookFor = prod3VideosToLookFor[~prod3VideosToLookFor['reviewResponse'].isnull()]"
      ]
    },
    {
      "cell_type": "code",
      "execution_count": null,
      "metadata": {
        "id": "NRwefyB8cPl_"
      },
      "outputs": [],
      "source": [
        "#use reduce to combine all the reviews into one string\n",
        "from functools import reduce\n",
        "summaryWithinProduct1Prompt = \"Remove recurring pros and cons from multiple reviews separated by 'NextReview' and collate a final version of pros and cons from the following: \\n\" + reduce(lambda x, y: x + '\\n NewReview \\n' + y, prod1VideosToLookFor['reviewResponse']) + \"\\n\" + \"Somtimes the entire review can be irrelevant to scooter. Do not consider them for pros and cons. Only return keywords in each pro and con and keep it concise. Limit to 5 pros and 5 cons.\"\n",
        "summaryWithinProduct2Prompt = \"Remove recurring pros and cons from multiple reviews separated by 'NextReview' and collate a final version of pros and cons from the following: \\n\" + reduce(lambda x, y: x + '\\n NewReview \\n' + y, prod2VideosToLookFor['reviewResponse']) + \"\\n\" + \"Somtimes the entire review can be irrelevant to scooter. Do not consider them for pros and cons. Only return keywords in each pro and con and keep it concise. Limit to 5 pros and 5 cons.\"\n",
        "summaryWithinProduct3Prompt = \"Remove recurring pros and cons from multiple reviews separated by 'NextReview' and collate a final version of pros and cons from the following: \\n\" + reduce(lambda x, y: x + '\\n NewReview \\n' + y, prod3VideosToLookFor['reviewResponse']) + \"\\n\" + \"Somtimes the entire review can be irrelevant to scooter. Do not consider them for pros and cons. Only return keywords in each pro and con and keep it concise. Limit to 5 pros and 5 cons.\""
      ]
    },
    {
      "cell_type": "code",
      "execution_count": null,
      "metadata": {
        "id": "9ArKnLSUcPl_"
      },
      "outputs": [],
      "source": [
        "#use GPT to summarize the reviews\n",
        "finalReviewWithinProduct1 = vars(queryGPT(summaryWithinProduct1Prompt))['_previous']['choices'][0]['message']['content']\n",
        "finalReviewWithinProduct2 = vars(queryGPT(summaryWithinProduct2Prompt))['_previous']['choices'][0]['message']['content']\n",
        "finalReviewWithinProduct3 = vars(queryGPT(summaryWithinProduct3Prompt))['_previous']['choices'][0]['message']['content']"
      ]
    },
    {
      "cell_type": "code",
      "execution_count": null,
      "metadata": {
        "id": "ChMojxmhcPl_",
        "outputId": "e78ba3b0-5a7f-41e1-8df4-4ac1a23100a0"
      },
      "outputs": [
        {
          "data": {
            "text/plain": [
              "['Pros:',\n",
              " '1. User-friendly with easy-to-follow instructions.',\n",
              " '2. Features speed control modes.',\n",
              " '3. Password protection system for safety.',\n",
              " '4. Cruise control functionality.',\n",
              " '5. Reliable brakes and built-in horn.',\n",
              " '',\n",
              " 'Cons:',\n",
              " '1. Confusing product packaging.',\n",
              " '2. Top speed of 15 mph may be insufficient.',\n",
              " '3. Password entry required each time it is turned on.',\n",
              " '4. Motor locks after unsuccessful password entry.',\n",
              " '5. No option to disable light in pedestrian mode.']"
            ]
          },
          "execution_count": 67,
          "metadata": {},
          "output_type": "execute_result"
        }
      ],
      "source": [
        "finalReviewWithinProduct1.split('\\n')"
      ]
    },
    {
      "cell_type": "code",
      "execution_count": null,
      "metadata": {
        "id": "ulO5EiddcPl_",
        "outputId": "e6194bed-3451-48c3-b3b9-597bb3330768"
      },
      "outputs": [
        {
          "data": {
            "text/plain": [
              "['Final Collated Pros and Cons: ',\n",
              " '',\n",
              " 'Pros:',\n",
              " '1. Easy Assembly: Simple and straightforward setup and control system.  ',\n",
              " '2. Performance: Offers respectable speed and range; performs well on different terrains. ',\n",
              " '3. Features: Comes with an efficient brake system, has a LED headlight, and a display for speed and battery gauge.',\n",
              " '4. Long-Lasting: Good battery longevity and overall scooter durability. ',\n",
              " '5. Portability: Easy to fold and transport thanks to its lightweight design. ',\n",
              " '',\n",
              " 'Cons:',\n",
              " '1. Fender Lock: Factory settings need adjusting for optimal functionality.',\n",
              " '2. Battery Issues: Degraded battery performance over time; unreliable battery gauge.',\n",
              " '3. Consistency: Potential inconsistency in top speed between scooters of the same model.',\n",
              " '4. Lights: Headlight not sufficiently bright; lacks brake light for safety during night-time rides.',\n",
              " '5. Maintenance: Regular maintenance is needed, particularly for tires and brakes; degradation in scooter range observed over time.']"
            ]
          },
          "execution_count": 68,
          "metadata": {},
          "output_type": "execute_result"
        }
      ],
      "source": [
        "finalReviewWithinProduct2.split('\\n')"
      ]
    },
    {
      "cell_type": "code",
      "execution_count": null,
      "metadata": {
        "id": "LM-1iJlzcPl_",
        "outputId": "5e3aa040-f756-4603-c957-44fc6ad4965a"
      },
      "outputs": [
        {
          "data": {
            "text/plain": [
              "['Final Revised Review: ',\n",
              " '',\n",
              " 'Pros:',\n",
              " '1. Exact product as ordered, satisfying customer expectations.',\n",
              " '2. Dual shocks at front and rear for a smoother ride.',\n",
              " '3. Simple assembly process with a few screws to tighten.',\n",
              " '4. Comes fully charged for immediate test ride.',\n",
              " '5. Features turn signal, brake light, headlamp and rear light for safety and visibility during night rides.',\n",
              " '',\n",
              " 'Cons:',\n",
              " '1. Height adjustment can be challenging initially.',\n",
              " '2. Adjustment screw required for closing and locking might be confusing.',\n",
              " '3. Activation of headlamp involves a certain sequence of button pressing which can be confusing. ',\n",
              " '4. Setup process requires patience and understanding of instructions.']"
            ]
          },
          "execution_count": 70,
          "metadata": {},
          "output_type": "execute_result"
        }
      ],
      "source": [
        "finalReviewWithinProduct3.split('\\n')"
      ]
    }
  ],
  "metadata": {
    "kernelspec": {
      "display_name": "pytorchCUDAEnabled1",
      "language": "python",
      "name": "python3"
    },
    "language_info": {
      "codemirror_mode": {
        "name": "ipython",
        "version": 3
      },
      "file_extension": ".py",
      "mimetype": "text/x-python",
      "name": "python",
      "nbconvert_exporter": "python",
      "pygments_lexer": "ipython3",
      "version": "3.10.5"
    },
    "orig_nbformat": 4,
    "colab": {
      "provenance": []
    }
  },
  "nbformat": 4,
  "nbformat_minor": 0
}